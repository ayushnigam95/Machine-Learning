{
 "cells": [
  {
   "cell_type": "markdown",
   "metadata": {},
   "source": [
    "# Artificial Neural Network (Sample Test Implementation on hypothetical data) "
   ]
  },
  {
   "cell_type": "code",
   "execution_count": 2,
   "metadata": {},
   "outputs": [
    {
     "data": {
      "text/html": [
       "<ol class=list-inline>\n",
       "\t<li>0.2</li>\n",
       "\t<li>0.1</li>\n",
       "\t<li>0.2</li>\n",
       "\t<li>0.2</li>\n",
       "\t<li>0.4</li>\n",
       "\t<li>0.3</li>\n",
       "</ol>\n"
      ],
      "text/latex": [
       "\\begin{enumerate*}\n",
       "\\item 0.2\n",
       "\\item 0.1\n",
       "\\item 0.2\n",
       "\\item 0.2\n",
       "\\item 0.4\n",
       "\\item 0.3\n",
       "\\end{enumerate*}\n"
      ],
      "text/markdown": [
       "1. 0.2\n",
       "2. 0.1\n",
       "3. 0.2\n",
       "4. 0.2\n",
       "5. 0.4\n",
       "6. 0.3\n",
       "\n",
       "\n"
      ],
      "text/plain": [
       "[1] 0.2 0.1 0.2 0.2 0.4 0.3"
      ]
     },
     "metadata": {},
     "output_type": "display_data"
    },
    {
     "data": {
      "text/html": [
       "<ol class=list-inline>\n",
       "\t<li>0.9</li>\n",
       "\t<li>0.1</li>\n",
       "\t<li>0.4</li>\n",
       "\t<li>0.5</li>\n",
       "\t<li>0.5</li>\n",
       "\t<li>0.8</li>\n",
       "</ol>\n"
      ],
      "text/latex": [
       "\\begin{enumerate*}\n",
       "\\item 0.9\n",
       "\\item 0.1\n",
       "\\item 0.4\n",
       "\\item 0.5\n",
       "\\item 0.5\n",
       "\\item 0.8\n",
       "\\end{enumerate*}\n"
      ],
      "text/markdown": [
       "1. 0.9\n",
       "2. 0.1\n",
       "3. 0.4\n",
       "4. 0.5\n",
       "5. 0.5\n",
       "6. 0.8\n",
       "\n",
       "\n"
      ],
      "text/plain": [
       "[1] 0.9 0.1 0.4 0.5 0.5 0.8"
      ]
     },
     "metadata": {},
     "output_type": "display_data"
    },
    {
     "data": {
      "text/html": [
       "<ol class=list-inline>\n",
       "\t<li>1</li>\n",
       "\t<li>0</li>\n",
       "\t<li>0</li>\n",
       "\t<li>0</li>\n",
       "\t<li>1</li>\n",
       "\t<li>1</li>\n",
       "</ol>\n"
      ],
      "text/latex": [
       "\\begin{enumerate*}\n",
       "\\item 1\n",
       "\\item 0\n",
       "\\item 0\n",
       "\\item 0\n",
       "\\item 1\n",
       "\\item 1\n",
       "\\end{enumerate*}\n"
      ],
      "text/markdown": [
       "1. 1\n",
       "2. 0\n",
       "3. 0\n",
       "4. 0\n",
       "5. 1\n",
       "6. 1\n",
       "\n",
       "\n"
      ],
      "text/plain": [
       "[1] 1 0 0 0 1 1"
      ]
     },
     "metadata": {},
     "output_type": "display_data"
    }
   ],
   "source": [
    "# Hypothetical example for Artificial Neural Network\n",
    "FatScore = c(0.2,0.1,0.2,0.2,0.4,0.3)\n",
    "SaltScore = c(0.9,0.1,0.4,0.5,0.5,0.8)\n",
    "Acceptance = c(1,0,0,0,1,1)\n",
    "FatScore\n",
    "SaltScore\n",
    "Acceptance"
   ]
  },
  {
   "cell_type": "code",
   "execution_count": 3,
   "metadata": {},
   "outputs": [
    {
     "data": {
      "text/html": [
       "<table>\n",
       "<thead><tr><th></th><th scope=col>THeTA,</th></tr></thead>\n",
       "<tbody>\n",
       "\t<tr><th scope=row>3</th><td>-0.005199481</td></tr>\n",
       "\t<tr><th scope=row>4</th><td>-0.042829957</td></tr>\n",
       "\t<tr><th scope=row>5</th><td>-0.038629767</td></tr>\n",
       "\t<tr><th scope=row>6</th><td>-0.006065988</td></tr>\n",
       "</tbody>\n",
       "</table>\n"
      ],
      "text/latex": [
       "\\begin{tabular}{r|l}\n",
       "  & THeTA,\\\\\n",
       "\\hline\n",
       "\t3 & -0.005199481\\\\\n",
       "\t4 & -0.042829957\\\\\n",
       "\t5 & -0.038629767\\\\\n",
       "\t6 & -0.006065988\\\\\n",
       "\\end{tabular}\n"
      ],
      "text/markdown": [
       "\n",
       "| <!--/--> | THeTA, | \n",
       "|---|---|---|---|\n",
       "| 3 | -0.005199481 | \n",
       "| 4 | -0.042829957 | \n",
       "| 5 | -0.038629767 | \n",
       "| 6 | -0.006065988 | \n",
       "\n",
       "\n"
      ],
      "text/plain": [
       "  THeTA,      \n",
       "3 -0.005199481\n",
       "4 -0.042829957\n",
       "5 -0.038629767\n",
       "6 -0.006065988"
      ]
     },
     "metadata": {},
     "output_type": "display_data"
    }
   ],
   "source": [
    "# Neural Network Structure\n",
    "# Input layer: two nodes (for two predictors) - nodes 1 and 2\n",
    "# Hidden Layer: one node - node 3,4,5and 6\n",
    "# Output Layer: one node - node 6\n",
    "\n",
    "# THeTA,j and Wij initialization(random number in the range: 0.00 +- 0.05)\n",
    "bias = matrix(runif(4, -0.05, 0.05), ncol = 1, dimnames = list(c(3,4,5,6), c(\"THeTA,\")))\n",
    "bias\n"
   ]
  },
  {
   "cell_type": "code",
   "execution_count": 4,
   "metadata": {},
   "outputs": [
    {
     "data": {
      "text/html": [
       "<table>\n",
       "<thead><tr><th></th><th scope=col>3</th><th scope=col>4</th><th scope=col>5</th></tr></thead>\n",
       "<tbody>\n",
       "\t<tr><th scope=row>1</th><td>0.01737694   </td><td>-0.02597287  </td><td>-0.0009235633</td></tr>\n",
       "\t<tr><th scope=row>2</th><td>0.01791760   </td><td> 0.03155001  </td><td>-0.0007025062</td></tr>\n",
       "</tbody>\n",
       "</table>\n"
      ],
      "text/latex": [
       "\\begin{tabular}{r|lll}\n",
       "  & 3 & 4 & 5\\\\\n",
       "\\hline\n",
       "\t1 & 0.01737694    & -0.02597287   & -0.0009235633\\\\\n",
       "\t2 & 0.01791760    &  0.03155001   & -0.0007025062\\\\\n",
       "\\end{tabular}\n"
      ],
      "text/markdown": [
       "\n",
       "| <!--/--> | 3 | 4 | 5 | \n",
       "|---|---|\n",
       "| 1 | 0.01737694    | -0.02597287   | -0.0009235633 | \n",
       "| 2 | 0.01791760    |  0.03155001   | -0.0007025062 | \n",
       "\n",
       "\n"
      ],
      "text/plain": [
       "  3          4           5            \n",
       "1 0.01737694 -0.02597287 -0.0009235633\n",
       "2 0.01791760  0.03155001 -0.0007025062"
      ]
     },
     "metadata": {},
     "output_type": "display_data"
    },
    {
     "data": {
      "text/html": [
       "<table>\n",
       "<thead><tr><th></th><th scope=col>6</th></tr></thead>\n",
       "<tbody>\n",
       "\t<tr><th scope=row>3</th><td>0.042717210</td></tr>\n",
       "\t<tr><th scope=row>4</th><td>0.001145715</td></tr>\n",
       "\t<tr><th scope=row>5</th><td>0.026686428</td></tr>\n",
       "</tbody>\n",
       "</table>\n"
      ],
      "text/latex": [
       "\\begin{tabular}{r|l}\n",
       "  & 6\\\\\n",
       "\\hline\n",
       "\t3 & 0.042717210\\\\\n",
       "\t4 & 0.001145715\\\\\n",
       "\t5 & 0.026686428\\\\\n",
       "\\end{tabular}\n"
      ],
      "text/markdown": [
       "\n",
       "| <!--/--> | 6 | \n",
       "|---|---|---|\n",
       "| 3 | 0.042717210 | \n",
       "| 4 | 0.001145715 | \n",
       "| 5 | 0.026686428 | \n",
       "\n",
       "\n"
      ],
      "text/plain": [
       "  6          \n",
       "3 0.042717210\n",
       "4 0.001145715\n",
       "5 0.026686428"
      ]
     },
     "metadata": {},
     "output_type": "display_data"
    }
   ],
   "source": [
    "weightsIH = matrix(runif(6, -0.05, 0.05), ncol = 3, dimnames = list(c(1,2), c(3,4,5)))\n",
    "weightsHO = matrix(runif(3, -0.05, 0.05), ncol = 1, dimnames = list(c(3,4,5), c(6)))\n",
    "weightsIH\n",
    "weightsHO"
   ]
  },
  {
   "cell_type": "code",
   "execution_count": 5,
   "metadata": {},
   "outputs": [
    {
     "data": {
      "text/html": [
       "<ol class=list-inline>\n",
       "\t<li>0.503600375398357</li>\n",
       "\t<li>0.495092776613787</li>\n",
       "\t<li>0.490139594852716</li>\n",
       "\t<li>0.507272918214303</li>\n",
       "</ol>\n"
      ],
      "text/latex": [
       "\\begin{enumerate*}\n",
       "\\item 0.503600375398357\n",
       "\\item 0.495092776613787\n",
       "\\item 0.490139594852716\n",
       "\\item 0.507272918214303\n",
       "\\end{enumerate*}\n"
      ],
      "text/markdown": [
       "1. 0.503600375398357\n",
       "2. 0.495092776613787\n",
       "3. 0.490139594852716\n",
       "4. 0.507272918214303\n",
       "\n",
       "\n"
      ],
      "text/plain": [
       "[1] 0.5036004 0.4950928 0.4901396 0.5072729"
      ]
     },
     "metadata": {},
     "output_type": "display_data"
    }
   ],
   "source": [
    "# computing output value for first record\n",
    "# (FastScore = 0.2, Saltscore = 0.9)\n",
    "output = NULL\n",
    "k = 1 # first observation\n",
    "for(i in 1:length(bias)-1){\n",
    "  x = bias[i,1] + weightsIH[1,i] * FatScore[k] + weightsIH[2,i] * SaltScore[k]\n",
    "  output[i] = 1/(1 + exp(-x))\n",
    "}\n",
    "i = i + 1 # node increment\n",
    "j = 1\n",
    "\n",
    "x = bias[i,1] + weightsHO[1,j] * output[1] + weightsHO[2,j] * output[2] + weightsHO[3,j] * output[3]\n",
    "output[4] = 1/(1 + exp(-x))\n",
    "output\n"
   ]
  },
  {
   "cell_type": "code",
   "execution_count": 6,
   "metadata": {},
   "outputs": [
    {
     "data": {
      "text/html": [
       "1"
      ],
      "text/latex": [
       "1"
      ],
      "text/markdown": [
       "1"
      ],
      "text/plain": [
       "[1] 1"
      ]
     },
     "metadata": {},
     "output_type": "display_data"
    },
    {
     "data": {
      "text/html": [
       "1"
      ],
      "text/latex": [
       "1"
      ],
      "text/markdown": [
       "1"
      ],
      "text/plain": [
       "[1] 1"
      ]
     },
     "metadata": {},
     "output_type": "display_data"
    }
   ],
   "source": [
    "# classify first record using cutoff value = 0.5\n",
    "ifelse(output[4]>0.5, 1,0) #predicted value\n",
    "Acceptance[1] # actual value\n"
   ]
  },
  {
   "cell_type": "code",
   "execution_count": 7,
   "metadata": {},
   "outputs": [],
   "source": [
    "# model for hypothetocal data using library\n",
    "library(neuralnet)\n"
   ]
  },
  {
   "cell_type": "code",
   "execution_count": 8,
   "metadata": {},
   "outputs": [
    {
     "name": "stdout",
     "output_type": "stream",
     "text": [
      "'data.frame':\t6 obs. of  3 variables:\n",
      " $ FatScore  : num  0.2 0.1 0.2 0.2 0.4 0.3\n",
      " $ SaltScore : num  0.9 0.1 0.4 0.5 0.5 0.8\n",
      " $ Acceptance: num  1 0 0 0 1 1\n"
     ]
    }
   ],
   "source": [
    "df = data.frame(FatScore,SaltScore,Acceptance)\n",
    "str(df)"
   ]
  },
  {
   "cell_type": "code",
   "execution_count": 13,
   "metadata": {},
   "outputs": [
    {
     "data": {
      "text/html": [
       "<dl class=dl-horizontal>\n",
       "\t<dt>error</dt>\n",
       "\t\t<dd>0.749999195921248</dd>\n",
       "\t<dt>reached.threshold</dt>\n",
       "\t\t<dd>0.00186163494861304</dd>\n",
       "\t<dt>steps</dt>\n",
       "\t\t<dd>1</dd>\n",
       "</dl>\n"
      ],
      "text/latex": [
       "\\begin{description*}\n",
       "\\item[error] 0.749999195921248\n",
       "\\item[reached.threshold] 0.00186163494861304\n",
       "\\item[steps] 1\n",
       "\\end{description*}\n"
      ],
      "text/markdown": [
       "error\n",
       ":   0.749999195921248reached.threshold\n",
       ":   0.00186163494861304steps\n",
       ":   1\n",
       "\n"
      ],
      "text/plain": [
       "            error reached.threshold             steps \n",
       "   0.749999195921    0.001861634949    1.000000000000 "
      ]
     },
     "metadata": {},
     "output_type": "display_data"
    },
    {
     "data": {
      "text/plain": [
       "                    Length Class      Mode    \n",
       "call                10     -none-     call    \n",
       "response             6     -none-     numeric \n",
       "covariate           12     -none-     numeric \n",
       "model.list           2     -none-     list    \n",
       "err.fct              1     -none-     function\n",
       "act.fct              1     -none-     function\n",
       "linear.output        1     -none-     logical \n",
       "data                 3     data.frame list    \n",
       "net.result           1     -none-     list    \n",
       "weights              1     -none-     list    \n",
       "startweights         1     -none-     list    \n",
       "generalized.weights  1     -none-     list    \n",
       "result.matrix       16     -none-     numeric "
      ]
     },
     "metadata": {},
     "output_type": "display_data"
    }
   ],
   "source": [
    "# Neural Network model\n",
    "# startweights vector: no. of all bias (4) and connection weight values (9)\n",
    "# linear.outputs = T for predction\n",
    "# linear.outputs  = F for classification\n",
    "\n",
    "mod = neuralnet(Acceptance ~ FatScore + SaltScore, df,hidden = c(3), startweights = runif(13, -0.05, 0.05),\n",
    "                rep = 1,  algorithm = \"backprop\", learningrate = 0.1, err.fct = \"sse\", linear.output = F)\n",
    "mod$result.matrix[1:3,1]\n",
    "summary(mod)"
   ]
  },
  {
   "cell_type": "code",
   "execution_count": 14,
   "metadata": {},
   "outputs": [],
   "source": [
    "# inter layer connection weights\n",
    "# input layer to hidden layer connections\n",
    "dimnames(mod$weights[[1]][[1]]) = list(c(\"bias\", \"node1:fat\", \"node2:salt\"), c(\"node3\",\"node4\",\"node5\"))\n",
    "\n",
    "# hidden layer to output layer connections\n",
    "dimnames(mod$weights[[1]][[2]]) = list(c(\"bias\", \"node3\", \"node4\", \"node5\"), c(\"node6:accept\"))"
   ]
  },
  {
   "cell_type": "code",
   "execution_count": 15,
   "metadata": {},
   "outputs": [
    {
     "data": {
      "text/html": [
       "<table>\n",
       "<thead><tr><th scope=col>predicted.class</th><th scope=col>Actual.class</th><th scope=col>predicted.value</th><th scope=col>fat</th><th scope=col>salt</th></tr></thead>\n",
       "<tbody>\n",
       "\t<tr><td>0           </td><td>1           </td><td>0.4995052174</td><td>0.2         </td><td>0.9         </td></tr>\n",
       "\t<tr><td>0           </td><td>0           </td><td>0.4995109060</td><td>0.1         </td><td>0.1         </td></tr>\n",
       "\t<tr><td>0           </td><td>0           </td><td>0.4995116664</td><td>0.2         </td><td>0.4         </td></tr>\n",
       "\t<tr><td>0           </td><td>0           </td><td>0.4995103767</td><td>0.2         </td><td>0.5         </td></tr>\n",
       "\t<tr><td>0           </td><td>1           </td><td>0.4995196353</td><td>0.4         </td><td>0.5         </td></tr>\n",
       "\t<tr><td>0           </td><td>1           </td><td>0.4995111365</td><td>0.3         </td><td>0.8         </td></tr>\n",
       "</tbody>\n",
       "</table>\n"
      ],
      "text/latex": [
       "\\begin{tabular}{r|lllll}\n",
       " predicted.class & Actual.class & predicted.value & fat & salt\\\\\n",
       "\\hline\n",
       "\t 0            & 1            & 0.4995052174 & 0.2          & 0.9         \\\\\n",
       "\t 0            & 0            & 0.4995109060 & 0.1          & 0.1         \\\\\n",
       "\t 0            & 0            & 0.4995116664 & 0.2          & 0.4         \\\\\n",
       "\t 0            & 0            & 0.4995103767 & 0.2          & 0.5         \\\\\n",
       "\t 0            & 1            & 0.4995196353 & 0.4          & 0.5         \\\\\n",
       "\t 0            & 1            & 0.4995111365 & 0.3          & 0.8         \\\\\n",
       "\\end{tabular}\n"
      ],
      "text/markdown": [
       "\n",
       "predicted.class | Actual.class | predicted.value | fat | salt | \n",
       "|---|---|---|---|---|---|\n",
       "| 0            | 1            | 0.4995052174 | 0.2          | 0.9          | \n",
       "| 0            | 0            | 0.4995109060 | 0.1          | 0.1          | \n",
       "| 0            | 0            | 0.4995116664 | 0.2          | 0.4          | \n",
       "| 0            | 0            | 0.4995103767 | 0.2          | 0.5          | \n",
       "| 0            | 1            | 0.4995196353 | 0.4          | 0.5          | \n",
       "| 0            | 1            | 0.4995111365 | 0.3          | 0.8          | \n",
       "\n",
       "\n"
      ],
      "text/plain": [
       "  predicted.class Actual.class predicted.value fat salt\n",
       "1 0               1            0.4995052174    0.2 0.9 \n",
       "2 0               0            0.4995109060    0.1 0.1 \n",
       "3 0               0            0.4995116664    0.2 0.4 \n",
       "4 0               0            0.4995103767    0.2 0.5 \n",
       "5 0               1            0.4995196353    0.4 0.5 \n",
       "6 0               1            0.4995111365    0.3 0.8 "
      ]
     },
     "metadata": {},
     "output_type": "display_data"
    }
   ],
   "source": [
    "# classify training records\n",
    "modtrainc = ifelse(mod$net.result[[1]][,1]>0.5, 1, 0)\n",
    "modtrainc = unname(modtrainc)\n",
    "\n",
    "data.frame(\"predicted class\" = modtrainc, \"Actual class\" = df$Acceptance, \n",
    "           \"predicted value\" = mod$net.result[[1]][,1], \"fat\" = df$FatScore, \"salt\" = df$SaltScore)"
   ]
  },
  {
   "cell_type": "code",
   "execution_count": 16,
   "metadata": {},
   "outputs": [
    {
     "data": {
      "text/plain": [
       "            predicted class\n",
       "Actual class 0 1\n",
       "           0 3 0\n",
       "           1 3 0"
      ]
     },
     "metadata": {},
     "output_type": "display_data"
    }
   ],
   "source": [
    "# classification matrix\n",
    "table(\"Actual class\" = df$Acceptance, \"predicted class\" = factor(modtrainc, levels = c(\"0\",\"1\")))"
   ]
  },
  {
   "cell_type": "code",
   "execution_count": 17,
   "metadata": {},
   "outputs": [
    {
     "data": {
      "text/html": [
       "0.5"
      ],
      "text/latex": [
       "0.5"
      ],
      "text/markdown": [
       "0.5"
      ],
      "text/plain": [
       "[1] 0.5"
      ]
     },
     "metadata": {},
     "output_type": "display_data"
    },
    {
     "data": {
      "text/html": [
       "0.5"
      ],
      "text/latex": [
       "0.5"
      ],
      "text/markdown": [
       "0.5"
      ],
      "text/plain": [
       "[1] 0.5"
      ]
     },
     "metadata": {},
     "output_type": "display_data"
    }
   ],
   "source": [
    "# classification accuracy\n",
    "mean(modtrainc == df$Acceptance)\n",
    "# misclassification accuracy\n",
    "mean(modtrainc != df$Acceptance)"
   ]
  }
 ],
 "metadata": {
  "kernelspec": {
   "display_name": "R",
   "language": "R",
   "name": "ir"
  },
  "language_info": {
   "codemirror_mode": "r",
   "file_extension": ".r",
   "mimetype": "text/x-r-source",
   "name": "R",
   "pygments_lexer": "r",
   "version": "3.3.3"
  }
 },
 "nbformat": 4,
 "nbformat_minor": 2
}
