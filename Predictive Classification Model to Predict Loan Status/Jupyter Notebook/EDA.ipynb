{
 "cells": [
  {
   "cell_type": "markdown",
   "metadata": {},
   "source": [
    "# Exploratory Data Analysis"
   ]
  },
  {
   "cell_type": "code",
   "execution_count": null,
   "metadata": {},
   "outputs": [],
   "source": [
    "load(file = file.choose())\n",
    "Sys.setenv(JAVA_HOME = \"C:/Program Files/Java/jre-9.0.4\")\n"
   ]
  },
  {
   "cell_type": "code",
   "execution_count": null,
   "metadata": {},
   "outputs": [],
   "source": [
    "# importing library for visualization\n",
    "library(ggplot2)"
   ]
  },
  {
   "cell_type": "code",
   "execution_count": null,
   "metadata": {},
   "outputs": [],
   "source": [
    "# importing the datsets and storing it in he form of data frame\n",
    "df <- read.csv(file = file.choose(), header = T)"
   ]
  },
  {
   "cell_type": "code",
   "execution_count": null,
   "metadata": {},
   "outputs": [],
   "source": [
    "dftrain <- df"
   ]
  },
  {
   "cell_type": "code",
   "execution_count": null,
   "metadata": {},
   "outputs": [],
   "source": [
    "dftest <- df"
   ]
  },
  {
   "cell_type": "markdown",
   "metadata": {},
   "source": [
    "## Structure of the datasets "
   ]
  },
  {
   "cell_type": "code",
   "execution_count": null,
   "metadata": {},
   "outputs": [],
   "source": [
    "str(dftest)\n",
    "str(dftrain)"
   ]
  },
  {
   "cell_type": "markdown",
   "metadata": {},
   "source": [
    "## Bar plot for Gender"
   ]
  },
  {
   "cell_type": "code",
   "execution_count": 30,
   "metadata": {},
   "outputs": [
    {
     "data": {
      "text/html": [
       "<table>\n",
       "<thead><tr><th scope=col>Var1</th><th scope=col>Freq</th></tr></thead>\n",
       "<tbody>\n",
       "\t<tr><td>Female</td><td> 86   </td></tr>\n",
       "\t<tr><td>Male  </td><td>394   </td></tr>\n",
       "</tbody>\n",
       "</table>\n"
      ],
      "text/latex": [
       "\\begin{tabular}{r|ll}\n",
       " Var1 & Freq\\\\\n",
       "\\hline\n",
       "\t Female &  86   \\\\\n",
       "\t Male   & 394   \\\\\n",
       "\\end{tabular}\n"
      ],
      "text/markdown": [
       "\n",
       "Var1 | Freq | \n",
       "|---|---|\n",
       "| Female |  86    | \n",
       "| Male   | 394    | \n",
       "\n",
       "\n"
      ],
      "text/plain": [
       "  Var1   Freq\n",
       "1 Female  86 \n",
       "2 Male   394 "
      ]
     },
     "metadata": {},
     "output_type": "display_data"
    },
    {
     "data": {},
     "metadata": {},
     "output_type": "display_data"
    },
    {
     "data": {
      "image/png": "[encoded data removed]",
      "text/plain": [
       "plot without title"
      ]
     },
     "metadata": {},
     "output_type": "display_data"
    }
   ],
   "source": [
    "countgender <- table(dftrain$Gender)\n",
    "#countgender\n",
    "gendernames <- dimnames(countgender)\n",
    "#gendernames\n",
    "fcountg <- as.data.frame(countgender)\n",
    "fcountg\n",
    "genderplot <- ggplot(fcountg, aes(Var1, Freq)) + geom_bar(stat = \"identity\",width = 0.5, fill =\"steelblue\") + theme(plot.margin = margin(2,2,2,2,\"cm\")) +labs(title = \"plot (gender)\", x = \"Gender\", y = \"Count\")\n",
    "genderplot"
   ]
  },
  {
   "cell_type": "markdown",
   "metadata": {},
   "source": [
    "## Bar plot for Married"
   ]
  },
  {
   "cell_type": "code",
   "execution_count": 31,
   "metadata": {},
   "outputs": [
    {
     "data": {
      "text/html": [
       "<table>\n",
       "<thead><tr><th scope=col>Var1</th><th scope=col>Freq</th></tr></thead>\n",
       "<tbody>\n",
       "\t<tr><td>No </td><td>169</td></tr>\n",
       "\t<tr><td>Yes</td><td>311</td></tr>\n",
       "</tbody>\n",
       "</table>\n"
      ],
      "text/latex": [
       "\\begin{tabular}{r|ll}\n",
       " Var1 & Freq\\\\\n",
       "\\hline\n",
       "\t No  & 169\\\\\n",
       "\t Yes & 311\\\\\n",
       "\\end{tabular}\n"
      ],
      "text/markdown": [
       "\n",
       "Var1 | Freq | \n",
       "|---|---|\n",
       "| No  | 169 | \n",
       "| Yes | 311 | \n",
       "\n",
       "\n"
      ],
      "text/plain": [
       "  Var1 Freq\n",
       "1 No   169 \n",
       "2 Yes  311 "
      ]
     },
     "metadata": {},
     "output_type": "display_data"
    },
    {
     "data": {},
     "metadata": {},
     "output_type": "display_data"
    },
    {
     "data": {
      "image/png": "[encoded data removed]",
      "text/plain": [
       "plot without title"
      ]
     },
     "metadata": {},
     "output_type": "display_data"
    }
   ],
   "source": [
    "countmarried <- table(dftrain$Married)\n",
    "as.data.frame(countmarried)\n",
    "\n",
    "marriedplot <- ggplot(as.data.frame(countmarried), aes(Var1, Freq)) + geom_bar(stat = \"identity\",width = 0.5, fill =\"steelblue\") + theme(plot.margin = margin(2,2,2,2,\"cm\")) +labs(title = \"plot (Married)\", x = \"Married\", y = \"Count\")\n",
    "marriedplot"
   ]
  },
  {
   "cell_type": "markdown",
   "metadata": {},
   "source": [
    "## Bar plot for Education"
   ]
  },
  {
   "cell_type": "code",
   "execution_count": 32,
   "metadata": {},
   "outputs": [
    {
     "data": {
      "text/html": [
       "<table>\n",
       "<thead><tr><th scope=col>Var1</th><th scope=col>Freq</th></tr></thead>\n",
       "<tbody>\n",
       "\t<tr><td>Graduate    </td><td>383         </td></tr>\n",
       "\t<tr><td>Not Graduate</td><td> 97         </td></tr>\n",
       "</tbody>\n",
       "</table>\n"
      ],
      "text/latex": [
       "\\begin{tabular}{r|ll}\n",
       " Var1 & Freq\\\\\n",
       "\\hline\n",
       "\t Graduate     & 383         \\\\\n",
       "\t Not Graduate &  97         \\\\\n",
       "\\end{tabular}\n"
      ],
      "text/markdown": [
       "\n",
       "Var1 | Freq | \n",
       "|---|---|\n",
       "| Graduate     | 383          | \n",
       "| Not Graduate |  97          | \n",
       "\n",
       "\n"
      ],
      "text/plain": [
       "  Var1         Freq\n",
       "1 Graduate     383 \n",
       "2 Not Graduate  97 "
      ]
     },
     "metadata": {},
     "output_type": "display_data"
    },
    {
     "data": {},
     "metadata": {},
     "output_type": "display_data"
    },
    {
     "data": {
      "image/png": "[encoded data removed]",
      "text/plain": [
       "plot without title"
      ]
     },
     "metadata": {},
     "output_type": "display_data"
    }
   ],
   "source": [
    "counteducation <- table(dftrain$Education)\n",
    "as.data.frame(counteducation)\n",
    "\n",
    "educationplot <- ggplot(as.data.frame(counteducation), aes(Var1, Freq)) + geom_bar(stat = \"identity\",width = 0.5, fill =\"steelblue\") + theme(plot.margin = margin(2,2,2,2,\"cm\")) +labs(title = \"plot (education)\", x = \"Education\", y = \"Count\")\n",
    "educationplot"
   ]
  },
  {
   "cell_type": "markdown",
   "metadata": {},
   "source": [
    "## Bar plot for Self Employement"
   ]
  },
  {
   "cell_type": "code",
   "execution_count": 33,
   "metadata": {},
   "outputs": [
    {
     "data": {
      "text/html": [
       "<table>\n",
       "<thead><tr><th scope=col>Var1</th><th scope=col>Freq</th></tr></thead>\n",
       "<tbody>\n",
       "\t<tr><td>Graduate    </td><td>383         </td></tr>\n",
       "\t<tr><td>Not Graduate</td><td> 97         </td></tr>\n",
       "</tbody>\n",
       "</table>\n"
      ],
      "text/latex": [
       "\\begin{tabular}{r|ll}\n",
       " Var1 & Freq\\\\\n",
       "\\hline\n",
       "\t Graduate     & 383         \\\\\n",
       "\t Not Graduate &  97         \\\\\n",
       "\\end{tabular}\n"
      ],
      "text/markdown": [
       "\n",
       "Var1 | Freq | \n",
       "|---|---|\n",
       "| Graduate     | 383          | \n",
       "| Not Graduate |  97          | \n",
       "\n",
       "\n"
      ],
      "text/plain": [
       "  Var1         Freq\n",
       "1 Graduate     383 \n",
       "2 Not Graduate  97 "
      ]
     },
     "metadata": {},
     "output_type": "display_data"
    },
    {
     "data": {},
     "metadata": {},
     "output_type": "display_data"
    },
    {
     "data": {
      "image/png": "[encoded data removed]",
      "text/plain": [
       "plot without title"
      ]
     },
     "metadata": {},
     "output_type": "display_data"
    }
   ],
   "source": [
    "countemployed <- table(dftrain$Self_Employed)\n",
    "as.data.frame(counteducation)\n",
    "\n",
    "employmentplot <- ggplot(as.data.frame(countemployed), aes(Var1, Freq)) + geom_bar(stat = \"identity\",width = 0.5, fill =\"steelblue\") + theme(plot.margin = margin(2,2,2,2,\"cm\")) +labs(title = \"plot (self employment)\", x = \"Employment\", y = \"Count\")\n",
    "employmentplot"
   ]
  },
  {
   "cell_type": "markdown",
   "metadata": {},
   "source": [
    "## Bar plot for Property Area"
   ]
  },
  {
   "cell_type": "code",
   "execution_count": 34,
   "metadata": {},
   "outputs": [
    {
     "data": {
      "text/html": [
       "<table>\n",
       "<thead><tr><th scope=col>Var1</th><th scope=col>Freq</th></tr></thead>\n",
       "<tbody>\n",
       "\t<tr><td>Rural    </td><td>139      </td></tr>\n",
       "\t<tr><td>Semiurban</td><td>191      </td></tr>\n",
       "\t<tr><td>Urban    </td><td>150      </td></tr>\n",
       "</tbody>\n",
       "</table>\n"
      ],
      "text/latex": [
       "\\begin{tabular}{r|ll}\n",
       " Var1 & Freq\\\\\n",
       "\\hline\n",
       "\t Rural     & 139      \\\\\n",
       "\t Semiurban & 191      \\\\\n",
       "\t Urban     & 150      \\\\\n",
       "\\end{tabular}\n"
      ],
      "text/markdown": [
       "\n",
       "Var1 | Freq | \n",
       "|---|---|---|\n",
       "| Rural     | 139       | \n",
       "| Semiurban | 191       | \n",
       "| Urban     | 150       | \n",
       "\n",
       "\n"
      ],
      "text/plain": [
       "  Var1      Freq\n",
       "1 Rural     139 \n",
       "2 Semiurban 191 \n",
       "3 Urban     150 "
      ]
     },
     "metadata": {},
     "output_type": "display_data"
    },
    {
     "data": {},
     "metadata": {},
     "output_type": "display_data"
    },
    {
     "data": {
      "image/png": "[encoded data removed]",
      "text/plain": [
       "plot without title"
      ]
     },
     "metadata": {},
     "output_type": "display_data"
    }
   ],
   "source": [
    "countPropertyArea <- table(dftrain$Property_Area)\n",
    "as.data.frame(countPropertyArea)\n",
    "\n",
    "PropertyAreaplot <- ggplot(as.data.frame(countPropertyArea), aes(Var1, Freq)) + geom_bar(stat = \"identity\",width = 0.5, fill =\"steelblue\") + theme(plot.margin = margin(2,2,2,2,\"cm\")) +labs(title = \"plot (Property Area)\", x = \"Property Area\", y = \"Count\")\n",
    "PropertyAreaplot"
   ]
  },
  {
   "cell_type": "markdown",
   "metadata": {},
   "source": [
    "## Histogram for loan amount"
   ]
  },
  {
   "cell_type": "code",
   "execution_count": 35,
   "metadata": {},
   "outputs": [
    {
     "data": {},
     "metadata": {},
     "output_type": "display_data"
    },
    {
     "data": {
      "image/png": "[encoded data removed]",
      "text/plain": [
       "plot without title"
      ]
     },
     "metadata": {},
     "output_type": "display_data"
    }
   ],
   "source": [
    "LoanAmountplot <- ggplot(data=dftrain, aes(dftrain$LoanAmount)) + geom_histogram(fill =\"steelblue\", binwidth = 7) + theme(plot.margin = margin(2,2,2,2,\"cm\")) + theme(plot.margin = margin(1,1,1,1,'cm')) + labs(title = \"Histogram for Loan Amount\", x = \"Loan Amount\")\n",
    "LoanAmountplot"
   ]
  },
  {
   "cell_type": "markdown",
   "metadata": {},
   "source": [
    "## Data Preparation for PCA and Correlation Matrix"
   ]
  },
  {
   "cell_type": "code",
   "execution_count": null,
   "metadata": {},
   "outputs": [],
   "source": [
    "# structure before conversion\n",
    "str(dftrain)"
   ]
  },
  {
   "cell_type": "code",
   "execution_count": null,
   "metadata": {},
   "outputs": [],
   "source": [
    "dfnum <- dftrain\n",
    "dfnum$Gender <- as.integer(dfnum$Gender) \n",
    "dfnum$Married <- as.integer(dfnum$Married)\n",
    "dfnum$Education <- as.integer(dfnum$Education)\n",
    "dfnum$Loan_Status <- as.integer(dfnum$Loan_Status)\n",
    "dfnum$Property_Area <- as.integer(dfnum$Property_Area)\n",
    "dfnum$Self_Employed <- as.integer(dfnum$Self_Employed)\n",
    "dfnum$Dependents <- as.integer(dfnum$Dependents)\n",
    "\n",
    "# structure after conversion \n",
    "str(dfnum)"
   ]
  },
  {
   "cell_type": "markdown",
   "metadata": {},
   "source": [
    "## Principal Component Analysis (PCA) "
   ]
  },
  {
   "cell_type": "code",
   "execution_count": 24,
   "metadata": {
    "scrolled": true
   },
   "outputs": [
    {
     "data": {
      "text/html": [
       "<table>\n",
       "<thead><tr><th></th><th scope=col>PC1</th><th scope=col>PC2</th><th scope=col>PC3</th></tr></thead>\n",
       "<tbody>\n",
       "\t<tr><th scope=row>Gender</th><td>-1.879542e-06</td><td>-2.391847e-05</td><td> 2.835710e-05</td></tr>\n",
       "\t<tr><th scope=row>Married</th><td>-2.818853e-06</td><td>-2.004374e-05</td><td>-5.408531e-04</td></tr>\n",
       "\t<tr><th scope=row>Dependents</th><td>-2.348916e-05</td><td>-7.272243e-06</td><td>-7.508113e-04</td></tr>\n",
       "\t<tr><th scope=row>Education</th><td> 9.091475e-06</td><td> 1.451416e-05</td><td> 8.138479e-04</td></tr>\n",
       "\t<tr><th scope=row>Self_Employed</th><td>-1.033185e-05</td><td>-3.048763e-06</td><td>-6.460989e-05</td></tr>\n",
       "\t<tr><th scope=row>ApplicantIncome</th><td>-9.978190e-01</td><td>-6.558862e-02</td><td> 6.071421e-03</td></tr>\n",
       "\t<tr><th scope=row>CoapplicantIncome</th><td> 6.564553e-02</td><td>-9.978134e-01</td><td> 6.252928e-03</td></tr>\n",
       "\t<tr><th scope=row>LoanAmount</th><td>-6.914984e-03</td><td>-8.154964e-03</td><td>-8.266505e-01</td></tr>\n",
       "\t<tr><th scope=row>Loan_Amount_Term</th><td> 1.219407e-04</td><td> 1.845990e-04</td><td>-5.626454e-01</td></tr>\n",
       "\t<tr><th scope=row>Credit_History</th><td> 3.464203e-06</td><td> 2.284859e-06</td><td>-4.282963e-05</td></tr>\n",
       "\t<tr><th scope=row>Property_Area</th><td> 7.269117e-06</td><td> 3.171926e-07</td><td> 1.277244e-03</td></tr>\n",
       "\t<tr><th scope=row>Loan_Status</th><td> 3.379295e-06</td><td> 9.881395e-06</td><td> 2.728993e-04</td></tr>\n",
       "</tbody>\n",
       "</table>\n"
      ],
      "text/latex": [
       "\\begin{tabular}{r|lll}\n",
       "  & PC1 & PC2 & PC3\\\\\n",
       "\\hline\n",
       "\tGender & -1.879542e-06 & -2.391847e-05 &  2.835710e-05\\\\\n",
       "\tMarried & -2.818853e-06 & -2.004374e-05 & -5.408531e-04\\\\\n",
       "\tDependents & -2.348916e-05 & -7.272243e-06 & -7.508113e-04\\\\\n",
       "\tEducation &  9.091475e-06 &  1.451416e-05 &  8.138479e-04\\\\\n",
       "\tSelf\\_Employed & -1.033185e-05 & -3.048763e-06 & -6.460989e-05\\\\\n",
       "\tApplicantIncome & -9.978190e-01 & -6.558862e-02 &  6.071421e-03\\\\\n",
       "\tCoapplicantIncome &  6.564553e-02 & -9.978134e-01 &  6.252928e-03\\\\\n",
       "\tLoanAmount & -6.914984e-03 & -8.154964e-03 & -8.266505e-01\\\\\n",
       "\tLoan\\_Amount\\_Term &  1.219407e-04 &  1.845990e-04 & -5.626454e-01\\\\\n",
       "\tCredit\\_History &  3.464203e-06 &  2.284859e-06 & -4.282963e-05\\\\\n",
       "\tProperty\\_Area &  7.269117e-06 &  3.171926e-07 &  1.277244e-03\\\\\n",
       "\tLoan\\_Status &  3.379295e-06 &  9.881395e-06 &  2.728993e-04\\\\\n",
       "\\end{tabular}\n"
      ],
      "text/markdown": [
       "\n",
       "| <!--/--> | PC1 | PC2 | PC3 | \n",
       "|---|---|---|---|---|---|---|---|---|---|---|---|\n",
       "| Gender | -1.879542e-06 | -2.391847e-05 |  2.835710e-05 | \n",
       "| Married | -2.818853e-06 | -2.004374e-05 | -5.408531e-04 | \n",
       "| Dependents | -2.348916e-05 | -7.272243e-06 | -7.508113e-04 | \n",
       "| Education |  9.091475e-06 |  1.451416e-05 |  8.138479e-04 | \n",
       "| Self_Employed | -1.033185e-05 | -3.048763e-06 | -6.460989e-05 | \n",
       "| ApplicantIncome | -9.978190e-01 | -6.558862e-02 |  6.071421e-03 | \n",
       "| CoapplicantIncome |  6.564553e-02 | -9.978134e-01 |  6.252928e-03 | \n",
       "| LoanAmount | -6.914984e-03 | -8.154964e-03 | -8.266505e-01 | \n",
       "| Loan_Amount_Term |  1.219407e-04 |  1.845990e-04 | -5.626454e-01 | \n",
       "| Credit_History |  3.464203e-06 |  2.284859e-06 | -4.282963e-05 | \n",
       "| Property_Area |  7.269117e-06 |  3.171926e-07 |  1.277244e-03 | \n",
       "| Loan_Status |  3.379295e-06 |  9.881395e-06 |  2.728993e-04 | \n",
       "\n",
       "\n"
      ],
      "text/plain": [
       "                  PC1           PC2           PC3          \n",
       "Gender            -1.879542e-06 -2.391847e-05  2.835710e-05\n",
       "Married           -2.818853e-06 -2.004374e-05 -5.408531e-04\n",
       "Dependents        -2.348916e-05 -7.272243e-06 -7.508113e-04\n",
       "Education          9.091475e-06  1.451416e-05  8.138479e-04\n",
       "Self_Employed     -1.033185e-05 -3.048763e-06 -6.460989e-05\n",
       "ApplicantIncome   -9.978190e-01 -6.558862e-02  6.071421e-03\n",
       "CoapplicantIncome  6.564553e-02 -9.978134e-01  6.252928e-03\n",
       "LoanAmount        -6.914984e-03 -8.154964e-03 -8.266505e-01\n",
       "Loan_Amount_Term   1.219407e-04  1.845990e-04 -5.626454e-01\n",
       "Credit_History     3.464203e-06  2.284859e-06 -4.282963e-05\n",
       "Property_Area      7.269117e-06  3.171926e-07  1.277244e-03\n",
       "Loan_Status        3.379295e-06  9.881395e-06  2.728993e-04"
      ]
     },
     "metadata": {},
     "output_type": "display_data"
    }
   ],
   "source": [
    "pcaResult <- prcomp(dfnum[,c(2:13)])\n",
    "pcaResult$rotation[,c(1,2,3)]"
   ]
  },
  {
   "cell_type": "markdown",
   "metadata": {},
   "source": [
    "## Correlation Matrix"
   ]
  },
  {
   "cell_type": "code",
   "execution_count": 36,
   "metadata": {
    "scrolled": true
   },
   "outputs": [
    {
     "name": "stdout",
     "output_type": "stream",
     "text": [
      "'data.frame':\t480 obs. of  12 variables:\n",
      " $ Gender           : int  2 2 2 2 2 2 2 2 2 2 ...\n",
      " $ Married          : int  2 2 2 1 2 2 2 2 2 2 ...\n",
      " $ Dependents       : int  2 1 1 1 3 1 4 3 2 3 ...\n",
      " $ Education        : int  1 1 2 1 1 2 1 1 1 1 ...\n",
      " $ Self_Employed    : int  1 2 1 1 2 1 1 1 1 1 ...\n",
      " $ ApplicantIncome  : int  4583 3000 2583 6000 5417 2333 3036 4006 12841 3200 ...\n",
      " $ CoapplicantIncome: int  1508 0 2358 0 4196 1516 2504 1526 10968 700 ...\n",
      " $ LoanAmount       : int  128 66 120 141 267 95 158 168 349 70 ...\n",
      " $ Loan_Amount_Term : int  360 360 360 360 360 360 360 360 360 360 ...\n",
      " $ Credit_History   : int  1 1 1 1 1 1 0 1 1 1 ...\n",
      " $ Property_Area    : int  1 3 3 3 3 3 2 3 2 3 ...\n",
      " $ Loan_Status      : int  1 2 2 2 2 2 1 2 1 2 ...\n",
      "'data.frame':\t480 obs. of  12 variables:\n",
      " $ Gender           : int  2 2 2 2 2 2 2 2 2 2 ...\n",
      " $ Married          : int  2 2 2 1 2 2 2 2 2 2 ...\n",
      " $ Dependents       : int  2 1 1 1 3 1 4 3 2 3 ...\n",
      " $ Education        : int  1 1 2 1 1 2 1 1 1 1 ...\n",
      " $ Self_Employed    : int  1 2 1 1 2 1 1 1 1 1 ...\n",
      " $ ApplicantIncome  : int  4583 3000 2583 6000 5417 2333 3036 4006 12841 3200 ...\n",
      " $ CoapplicantIncome: int  1508 0 2358 0 4196 1516 2504 1526 10968 700 ...\n",
      " $ LoanAmount       : int  128 66 120 141 267 95 158 168 349 70 ...\n",
      " $ Loan_Amount_Term : int  360 360 360 360 360 360 360 360 360 360 ...\n",
      " $ Credit_History   : int  1 1 1 1 1 1 0 1 1 1 ...\n",
      " $ Property_Area    : int  1 3 3 3 3 3 2 3 2 3 ...\n",
      " $ Loan_Status      : int  1 2 2 2 2 2 1 2 1 2 ...\n"
     ]
    }
   ],
   "source": [
    "str(dfnum[,c(2:13)])\n",
    "cormatelements <- dfnum[,c(2:13)]\n",
    "str(cormatelements)"
   ]
  },
  {
   "cell_type": "code",
   "execution_count": 37,
   "metadata": {},
   "outputs": [
    {
     "data": {
      "text/html": [
       "<table>\n",
       "<thead><tr><th></th><th scope=col>Gender</th><th scope=col>Married</th><th scope=col>Dependents</th><th scope=col>Education</th><th scope=col>Self_Employed</th><th scope=col>ApplicantIncome</th><th scope=col>CoapplicantIncome</th><th scope=col>LoanAmount</th><th scope=col>Loan_Amount_Term</th><th scope=col>Credit_History</th><th scope=col>Property_Area</th><th scope=col>Loan_Status</th></tr></thead>\n",
       "<tbody>\n",
       "\t<tr><th scope=row>Gender</th><td> 1.00</td><td> 0.35</td><td> 0.22</td><td> 0.06</td><td> 0.00</td><td> 0.03</td><td> 0.16</td><td> 0.10</td><td>-0.09</td><td> 0.02</td><td> 0.00</td><td> 0.06</td></tr>\n",
       "\t<tr><th scope=row>Married</th><td> 0.35</td><td> 1.00</td><td> 0.39</td><td> 0.00</td><td> 0.02</td><td> 0.04</td><td> 0.10</td><td> 0.18</td><td>-0.11</td><td> 0.03</td><td> 0.04</td><td> 0.11</td></tr>\n",
       "\t<tr><th scope=row>Dependents</th><td> 0.22</td><td> 0.39</td><td> 1.00</td><td> 0.03</td><td> 0.05</td><td> 0.13</td><td> 0.00</td><td> 0.17</td><td>-0.10</td><td>-0.03</td><td> 0.00</td><td> 0.04</td></tr>\n",
       "\t<tr><th scope=row>Education</th><td> 0.06</td><td> 0.00</td><td> 0.03</td><td> 1.00</td><td>-0.01</td><td>-0.13</td><td>-0.07</td><td>-0.17</td><td>-0.10</td><td>-0.06</td><td>-0.06</td><td>-0.07</td></tr>\n",
       "\t<tr><th scope=row>Self_Employed</th><td> 0.00</td><td> 0.02</td><td> 0.05</td><td>-0.01</td><td> 1.00</td><td> 0.17</td><td> 0.00</td><td> 0.12</td><td>-0.03</td><td>-0.02</td><td>-0.05</td><td>-0.03</td></tr>\n",
       "\t<tr><th scope=row>ApplicantIncome</th><td> 0.03</td><td> 0.04</td><td> 0.13</td><td>-0.13</td><td> 0.17</td><td> 1.00</td><td>-0.11</td><td> 0.50</td><td>-0.01</td><td>-0.06</td><td>-0.05</td><td>-0.04</td></tr>\n",
       "\t<tr><th scope=row>CoapplicantIncome</th><td> 0.16</td><td> 0.10</td><td> 0.00</td><td>-0.07</td><td> 0.00</td><td>-0.11</td><td> 1.00</td><td> 0.19</td><td>-0.01</td><td>-0.01</td><td> 0.01</td><td>-0.05</td></tr>\n",
       "\t<tr><th scope=row>LoanAmount</th><td> 0.10</td><td> 0.18</td><td> 0.17</td><td>-0.17</td><td> 0.12</td><td> 0.50</td><td> 0.19</td><td> 1.00</td><td> 0.05</td><td>-0.04</td><td>-0.11</td><td>-0.07</td></tr>\n",
       "\t<tr><th scope=row>Loan_Amount_Term</th><td>-0.09</td><td>-0.11</td><td>-0.10</td><td>-0.10</td><td>-0.03</td><td>-0.01</td><td>-0.01</td><td> 0.05</td><td> 1.00</td><td> 0.03</td><td>-0.06</td><td>-0.01</td></tr>\n",
       "\t<tr><th scope=row>Credit_History</th><td> 0.02</td><td> 0.03</td><td>-0.03</td><td>-0.06</td><td>-0.02</td><td>-0.06</td><td>-0.01</td><td>-0.04</td><td> 0.03</td><td> 1.00</td><td> 0.00</td><td> 0.53</td></tr>\n",
       "\t<tr><th scope=row>Property_Area</th><td> 0.00</td><td> 0.04</td><td> 0.00</td><td>-0.06</td><td>-0.05</td><td>-0.05</td><td> 0.01</td><td>-0.11</td><td>-0.06</td><td> 0.00</td><td> 1.00</td><td> 0.03</td></tr>\n",
       "\t<tr><th scope=row>Loan_Status</th><td> 0.06</td><td> 0.11</td><td> 0.04</td><td>-0.07</td><td>-0.03</td><td>-0.04</td><td>-0.05</td><td>-0.07</td><td>-0.01</td><td> 0.53</td><td> 0.03</td><td> 1.00</td></tr>\n",
       "</tbody>\n",
       "</table>\n"
      ],
      "text/latex": [
       "\\begin{tabular}{r|llllllllllll}\n",
       "  & Gender & Married & Dependents & Education & Self\\_Employed & ApplicantIncome & CoapplicantIncome & LoanAmount & Loan\\_Amount\\_Term & Credit\\_History & Property\\_Area & Loan\\_Status\\\\\n",
       "\\hline\n",
       "\tGender &  1.00 &  0.35 &  0.22 &  0.06 &  0.00 &  0.03 &  0.16 &  0.10 & -0.09 &  0.02 &  0.00 &  0.06\\\\\n",
       "\tMarried &  0.35 &  1.00 &  0.39 &  0.00 &  0.02 &  0.04 &  0.10 &  0.18 & -0.11 &  0.03 &  0.04 &  0.11\\\\\n",
       "\tDependents &  0.22 &  0.39 &  1.00 &  0.03 &  0.05 &  0.13 &  0.00 &  0.17 & -0.10 & -0.03 &  0.00 &  0.04\\\\\n",
       "\tEducation &  0.06 &  0.00 &  0.03 &  1.00 & -0.01 & -0.13 & -0.07 & -0.17 & -0.10 & -0.06 & -0.06 & -0.07\\\\\n",
       "\tSelf\\_Employed &  0.00 &  0.02 &  0.05 & -0.01 &  1.00 &  0.17 &  0.00 &  0.12 & -0.03 & -0.02 & -0.05 & -0.03\\\\\n",
       "\tApplicantIncome &  0.03 &  0.04 &  0.13 & -0.13 &  0.17 &  1.00 & -0.11 &  0.50 & -0.01 & -0.06 & -0.05 & -0.04\\\\\n",
       "\tCoapplicantIncome &  0.16 &  0.10 &  0.00 & -0.07 &  0.00 & -0.11 &  1.00 &  0.19 & -0.01 & -0.01 &  0.01 & -0.05\\\\\n",
       "\tLoanAmount &  0.10 &  0.18 &  0.17 & -0.17 &  0.12 &  0.50 &  0.19 &  1.00 &  0.05 & -0.04 & -0.11 & -0.07\\\\\n",
       "\tLoan\\_Amount\\_Term & -0.09 & -0.11 & -0.10 & -0.10 & -0.03 & -0.01 & -0.01 &  0.05 &  1.00 &  0.03 & -0.06 & -0.01\\\\\n",
       "\tCredit\\_History &  0.02 &  0.03 & -0.03 & -0.06 & -0.02 & -0.06 & -0.01 & -0.04 &  0.03 &  1.00 &  0.00 &  0.53\\\\\n",
       "\tProperty\\_Area &  0.00 &  0.04 &  0.00 & -0.06 & -0.05 & -0.05 &  0.01 & -0.11 & -0.06 &  0.00 &  1.00 &  0.03\\\\\n",
       "\tLoan\\_Status &  0.06 &  0.11 &  0.04 & -0.07 & -0.03 & -0.04 & -0.05 & -0.07 & -0.01 &  0.53 &  0.03 &  1.00\\\\\n",
       "\\end{tabular}\n"
      ],
      "text/markdown": [
       "\n",
       "| <!--/--> | Gender | Married | Dependents | Education | Self_Employed | ApplicantIncome | CoapplicantIncome | LoanAmount | Loan_Amount_Term | Credit_History | Property_Area | Loan_Status | \n",
       "|---|---|---|---|---|---|---|---|---|---|---|---|\n",
       "| Gender |  1.00 |  0.35 |  0.22 |  0.06 |  0.00 |  0.03 |  0.16 |  0.10 | -0.09 |  0.02 |  0.00 |  0.06 | \n",
       "| Married |  0.35 |  1.00 |  0.39 |  0.00 |  0.02 |  0.04 |  0.10 |  0.18 | -0.11 |  0.03 |  0.04 |  0.11 | \n",
       "| Dependents |  0.22 |  0.39 |  1.00 |  0.03 |  0.05 |  0.13 |  0.00 |  0.17 | -0.10 | -0.03 |  0.00 |  0.04 | \n",
       "| Education |  0.06 |  0.00 |  0.03 |  1.00 | -0.01 | -0.13 | -0.07 | -0.17 | -0.10 | -0.06 | -0.06 | -0.07 | \n",
       "| Self_Employed |  0.00 |  0.02 |  0.05 | -0.01 |  1.00 |  0.17 |  0.00 |  0.12 | -0.03 | -0.02 | -0.05 | -0.03 | \n",
       "| ApplicantIncome |  0.03 |  0.04 |  0.13 | -0.13 |  0.17 |  1.00 | -0.11 |  0.50 | -0.01 | -0.06 | -0.05 | -0.04 | \n",
       "| CoapplicantIncome |  0.16 |  0.10 |  0.00 | -0.07 |  0.00 | -0.11 |  1.00 |  0.19 | -0.01 | -0.01 |  0.01 | -0.05 | \n",
       "| LoanAmount |  0.10 |  0.18 |  0.17 | -0.17 |  0.12 |  0.50 |  0.19 |  1.00 |  0.05 | -0.04 | -0.11 | -0.07 | \n",
       "| Loan_Amount_Term | -0.09 | -0.11 | -0.10 | -0.10 | -0.03 | -0.01 | -0.01 |  0.05 |  1.00 |  0.03 | -0.06 | -0.01 | \n",
       "| Credit_History |  0.02 |  0.03 | -0.03 | -0.06 | -0.02 | -0.06 | -0.01 | -0.04 |  0.03 |  1.00 |  0.00 |  0.53 | \n",
       "| Property_Area |  0.00 |  0.04 |  0.00 | -0.06 | -0.05 | -0.05 |  0.01 | -0.11 | -0.06 |  0.00 |  1.00 |  0.03 | \n",
       "| Loan_Status |  0.06 |  0.11 |  0.04 | -0.07 | -0.03 | -0.04 | -0.05 | -0.07 | -0.01 |  0.53 |  0.03 |  1.00 | \n",
       "\n",
       "\n"
      ],
      "text/plain": [
       "                  Gender Married Dependents Education Self_Employed\n",
       "Gender             1.00   0.35    0.22       0.06      0.00        \n",
       "Married            0.35   1.00    0.39       0.00      0.02        \n",
       "Dependents         0.22   0.39    1.00       0.03      0.05        \n",
       "Education          0.06   0.00    0.03       1.00     -0.01        \n",
       "Self_Employed      0.00   0.02    0.05      -0.01      1.00        \n",
       "ApplicantIncome    0.03   0.04    0.13      -0.13      0.17        \n",
       "CoapplicantIncome  0.16   0.10    0.00      -0.07      0.00        \n",
       "LoanAmount         0.10   0.18    0.17      -0.17      0.12        \n",
       "Loan_Amount_Term  -0.09  -0.11   -0.10      -0.10     -0.03        \n",
       "Credit_History     0.02   0.03   -0.03      -0.06     -0.02        \n",
       "Property_Area      0.00   0.04    0.00      -0.06     -0.05        \n",
       "Loan_Status        0.06   0.11    0.04      -0.07     -0.03        \n",
       "                  ApplicantIncome CoapplicantIncome LoanAmount Loan_Amount_Term\n",
       "Gender             0.03            0.16              0.10      -0.09           \n",
       "Married            0.04            0.10              0.18      -0.11           \n",
       "Dependents         0.13            0.00              0.17      -0.10           \n",
       "Education         -0.13           -0.07             -0.17      -0.10           \n",
       "Self_Employed      0.17            0.00              0.12      -0.03           \n",
       "ApplicantIncome    1.00           -0.11              0.50      -0.01           \n",
       "CoapplicantIncome -0.11            1.00              0.19      -0.01           \n",
       "LoanAmount         0.50            0.19              1.00       0.05           \n",
       "Loan_Amount_Term  -0.01           -0.01              0.05       1.00           \n",
       "Credit_History    -0.06           -0.01             -0.04       0.03           \n",
       "Property_Area     -0.05            0.01             -0.11      -0.06           \n",
       "Loan_Status       -0.04           -0.05             -0.07      -0.01           \n",
       "                  Credit_History Property_Area Loan_Status\n",
       "Gender             0.02           0.00          0.06      \n",
       "Married            0.03           0.04          0.11      \n",
       "Dependents        -0.03           0.00          0.04      \n",
       "Education         -0.06          -0.06         -0.07      \n",
       "Self_Employed     -0.02          -0.05         -0.03      \n",
       "ApplicantIncome   -0.06          -0.05         -0.04      \n",
       "CoapplicantIncome -0.01           0.01         -0.05      \n",
       "LoanAmount        -0.04          -0.11         -0.07      \n",
       "Loan_Amount_Term   0.03          -0.06         -0.01      \n",
       "Credit_History     1.00           0.00          0.53      \n",
       "Property_Area      0.00           1.00          0.03      \n",
       "Loan_Status        0.53           0.03          1.00      "
      ]
     },
     "metadata": {},
     "output_type": "display_data"
    }
   ],
   "source": [
    "cormat <- cor(cormatelements, use = 'everything', method = \"pearson\")\n",
    "cormatround <- round(cormat,2)\n",
    "cormatround"
   ]
  },
  {
   "cell_type": "code",
   "execution_count": 27,
   "metadata": {},
   "outputs": [
    {
     "data": {
      "text/html": [
       "<table>\n",
       "<thead><tr><th></th><th scope=col>Self_Employed</th><th scope=col>ApplicantIncome</th><th scope=col>LoanAmount</th><th scope=col>Education</th><th scope=col>Gender</th><th scope=col>Married</th><th scope=col>Dependents</th><th scope=col>CoapplicantIncome</th><th scope=col>Property_Area</th><th scope=col>Loan_Amount_Term</th><th scope=col>Credit_History</th><th scope=col>Loan_Status</th></tr></thead>\n",
       "<tbody>\n",
       "\t<tr><th scope=row>Self_Employed</th><td> 1   </td><td>0.17 </td><td>0.12 </td><td>-0.01</td><td>0.00 </td><td>0.02 </td><td>0.05 </td><td> 0.00</td><td>-0.05</td><td>-0.03</td><td>-0.02</td><td>-0.03</td></tr>\n",
       "\t<tr><th scope=row>ApplicantIncome</th><td>NA   </td><td>1.00 </td><td>0.50 </td><td>-0.13</td><td>0.03 </td><td>0.04 </td><td>0.13 </td><td>-0.11</td><td>-0.05</td><td>-0.01</td><td>-0.06</td><td>-0.04</td></tr>\n",
       "\t<tr><th scope=row>LoanAmount</th><td>NA   </td><td>  NA </td><td>1.00 </td><td>-0.17</td><td>0.10 </td><td>0.18 </td><td>0.17 </td><td> 0.19</td><td>-0.11</td><td> 0.05</td><td>-0.04</td><td>-0.07</td></tr>\n",
       "\t<tr><th scope=row>Education</th><td>NA   </td><td>  NA </td><td>  NA </td><td> 1.00</td><td>0.06 </td><td>0.00 </td><td>0.03 </td><td>-0.07</td><td>-0.06</td><td>-0.10</td><td>-0.06</td><td>-0.07</td></tr>\n",
       "\t<tr><th scope=row>Gender</th><td>NA   </td><td>  NA </td><td>  NA </td><td>   NA</td><td>1.00 </td><td>0.35 </td><td>0.22 </td><td> 0.16</td><td> 0.00</td><td>-0.09</td><td> 0.02</td><td> 0.06</td></tr>\n",
       "\t<tr><th scope=row>Married</th><td>NA   </td><td>  NA </td><td>  NA </td><td>   NA</td><td>  NA </td><td>1.00 </td><td>0.39 </td><td> 0.10</td><td> 0.04</td><td>-0.11</td><td> 0.03</td><td> 0.11</td></tr>\n",
       "\t<tr><th scope=row>Dependents</th><td>NA   </td><td>  NA </td><td>  NA </td><td>   NA</td><td>  NA </td><td>  NA </td><td>1.00 </td><td> 0.00</td><td> 0.00</td><td>-0.10</td><td>-0.03</td><td> 0.04</td></tr>\n",
       "\t<tr><th scope=row>CoapplicantIncome</th><td>NA   </td><td>  NA </td><td>  NA </td><td>   NA</td><td>  NA </td><td>  NA </td><td>  NA </td><td> 1.00</td><td> 0.01</td><td>-0.01</td><td>-0.01</td><td>-0.05</td></tr>\n",
       "\t<tr><th scope=row>Property_Area</th><td>NA   </td><td>  NA </td><td>  NA </td><td>   NA</td><td>  NA </td><td>  NA </td><td>  NA </td><td>   NA</td><td> 1.00</td><td>-0.06</td><td> 0.00</td><td> 0.03</td></tr>\n",
       "\t<tr><th scope=row>Loan_Amount_Term</th><td>NA   </td><td>  NA </td><td>  NA </td><td>   NA</td><td>  NA </td><td>  NA </td><td>  NA </td><td>   NA</td><td>   NA</td><td> 1.00</td><td> 0.03</td><td>-0.01</td></tr>\n",
       "\t<tr><th scope=row>Credit_History</th><td>NA   </td><td>  NA </td><td>  NA </td><td>   NA</td><td>  NA </td><td>  NA </td><td>  NA </td><td>   NA</td><td>   NA</td><td>   NA</td><td> 1.00</td><td> 0.53</td></tr>\n",
       "\t<tr><th scope=row>Loan_Status</th><td>NA   </td><td>  NA </td><td>  NA </td><td>   NA</td><td>  NA </td><td>  NA </td><td>  NA </td><td>   NA</td><td>   NA</td><td>   NA</td><td>   NA</td><td> 1.00</td></tr>\n",
       "</tbody>\n",
       "</table>\n"
      ],
      "text/latex": [
       "\\begin{tabular}{r|llllllllllll}\n",
       "  & Self\\_Employed & ApplicantIncome & LoanAmount & Education & Gender & Married & Dependents & CoapplicantIncome & Property\\_Area & Loan\\_Amount\\_Term & Credit\\_History & Loan\\_Status\\\\\n",
       "\\hline\n",
       "\tSelf\\_Employed &  1    & 0.17  & 0.12  & -0.01 & 0.00  & 0.02  & 0.05  &  0.00 & -0.05 & -0.03 & -0.02 & -0.03\\\\\n",
       "\tApplicantIncome & NA    & 1.00  & 0.50  & -0.13 & 0.03  & 0.04  & 0.13  & -0.11 & -0.05 & -0.01 & -0.06 & -0.04\\\\\n",
       "\tLoanAmount & NA    &   NA  & 1.00  & -0.17 & 0.10  & 0.18  & 0.17  &  0.19 & -0.11 &  0.05 & -0.04 & -0.07\\\\\n",
       "\tEducation & NA    &   NA  &   NA  &  1.00 & 0.06  & 0.00  & 0.03  & -0.07 & -0.06 & -0.10 & -0.06 & -0.07\\\\\n",
       "\tGender & NA    &   NA  &   NA  &    NA & 1.00  & 0.35  & 0.22  &  0.16 &  0.00 & -0.09 &  0.02 &  0.06\\\\\n",
       "\tMarried & NA    &   NA  &   NA  &    NA &   NA  & 1.00  & 0.39  &  0.10 &  0.04 & -0.11 &  0.03 &  0.11\\\\\n",
       "\tDependents & NA    &   NA  &   NA  &    NA &   NA  &   NA  & 1.00  &  0.00 &  0.00 & -0.10 & -0.03 &  0.04\\\\\n",
       "\tCoapplicantIncome & NA    &   NA  &   NA  &    NA &   NA  &   NA  &   NA  &  1.00 &  0.01 & -0.01 & -0.01 & -0.05\\\\\n",
       "\tProperty\\_Area & NA    &   NA  &   NA  &    NA &   NA  &   NA  &   NA  &    NA &  1.00 & -0.06 &  0.00 &  0.03\\\\\n",
       "\tLoan\\_Amount\\_Term & NA    &   NA  &   NA  &    NA &   NA  &   NA  &   NA  &    NA &    NA &  1.00 &  0.03 & -0.01\\\\\n",
       "\tCredit\\_History & NA    &   NA  &   NA  &    NA &   NA  &   NA  &   NA  &    NA &    NA &    NA &  1.00 &  0.53\\\\\n",
       "\tLoan\\_Status & NA    &   NA  &   NA  &    NA &   NA  &   NA  &   NA  &    NA &    NA &    NA &    NA &  1.00\\\\\n",
       "\\end{tabular}\n"
      ],
      "text/markdown": [
       "\n",
       "| <!--/--> | Self_Employed | ApplicantIncome | LoanAmount | Education | Gender | Married | Dependents | CoapplicantIncome | Property_Area | Loan_Amount_Term | Credit_History | Loan_Status | \n",
       "|---|---|---|---|---|---|---|---|---|---|---|---|\n",
       "| Self_Employed |  1    | 0.17  | 0.12  | -0.01 | 0.00  | 0.02  | 0.05  |  0.00 | -0.05 | -0.03 | -0.02 | -0.03 | \n",
       "| ApplicantIncome | NA    | 1.00  | 0.50  | -0.13 | 0.03  | 0.04  | 0.13  | -0.11 | -0.05 | -0.01 | -0.06 | -0.04 | \n",
       "| LoanAmount | NA    |   NA  | 1.00  | -0.17 | 0.10  | 0.18  | 0.17  |  0.19 | -0.11 |  0.05 | -0.04 | -0.07 | \n",
       "| Education | NA    |   NA  |   NA  |  1.00 | 0.06  | 0.00  | 0.03  | -0.07 | -0.06 | -0.10 | -0.06 | -0.07 | \n",
       "| Gender | NA    |   NA  |   NA  |    NA | 1.00  | 0.35  | 0.22  |  0.16 |  0.00 | -0.09 |  0.02 |  0.06 | \n",
       "| Married | NA    |   NA  |   NA  |    NA |   NA  | 1.00  | 0.39  |  0.10 |  0.04 | -0.11 |  0.03 |  0.11 | \n",
       "| Dependents | NA    |   NA  |   NA  |    NA |   NA  |   NA  | 1.00  |  0.00 |  0.00 | -0.10 | -0.03 |  0.04 | \n",
       "| CoapplicantIncome | NA    |   NA  |   NA  |    NA |   NA  |   NA  |   NA  |  1.00 |  0.01 | -0.01 | -0.01 | -0.05 | \n",
       "| Property_Area | NA    |   NA  |   NA  |    NA |   NA  |   NA  |   NA  |    NA |  1.00 | -0.06 |  0.00 |  0.03 | \n",
       "| Loan_Amount_Term | NA    |   NA  |   NA  |    NA |   NA  |   NA  |   NA  |    NA |    NA |  1.00 |  0.03 | -0.01 | \n",
       "| Credit_History | NA    |   NA  |   NA  |    NA |   NA  |   NA  |   NA  |    NA |    NA |    NA |  1.00 |  0.53 | \n",
       "| Loan_Status | NA    |   NA  |   NA  |    NA |   NA  |   NA  |   NA  |    NA |    NA |    NA |    NA |  1.00 | \n",
       "\n",
       "\n"
      ],
      "text/plain": [
       "                  Self_Employed ApplicantIncome LoanAmount Education Gender\n",
       "Self_Employed      1            0.17            0.12       -0.01     0.00  \n",
       "ApplicantIncome   NA            1.00            0.50       -0.13     0.03  \n",
       "LoanAmount        NA              NA            1.00       -0.17     0.10  \n",
       "Education         NA              NA              NA        1.00     0.06  \n",
       "Gender            NA              NA              NA          NA     1.00  \n",
       "Married           NA              NA              NA          NA       NA  \n",
       "Dependents        NA              NA              NA          NA       NA  \n",
       "CoapplicantIncome NA              NA              NA          NA       NA  \n",
       "Property_Area     NA              NA              NA          NA       NA  \n",
       "Loan_Amount_Term  NA              NA              NA          NA       NA  \n",
       "Credit_History    NA              NA              NA          NA       NA  \n",
       "Loan_Status       NA              NA              NA          NA       NA  \n",
       "                  Married Dependents CoapplicantIncome Property_Area\n",
       "Self_Employed     0.02    0.05        0.00             -0.05        \n",
       "ApplicantIncome   0.04    0.13       -0.11             -0.05        \n",
       "LoanAmount        0.18    0.17        0.19             -0.11        \n",
       "Education         0.00    0.03       -0.07             -0.06        \n",
       "Gender            0.35    0.22        0.16              0.00        \n",
       "Married           1.00    0.39        0.10              0.04        \n",
       "Dependents          NA    1.00        0.00              0.00        \n",
       "CoapplicantIncome   NA      NA        1.00              0.01        \n",
       "Property_Area       NA      NA          NA              1.00        \n",
       "Loan_Amount_Term    NA      NA          NA                NA        \n",
       "Credit_History      NA      NA          NA                NA        \n",
       "Loan_Status         NA      NA          NA                NA        \n",
       "                  Loan_Amount_Term Credit_History Loan_Status\n",
       "Self_Employed     -0.03            -0.02          -0.03      \n",
       "ApplicantIncome   -0.01            -0.06          -0.04      \n",
       "LoanAmount         0.05            -0.04          -0.07      \n",
       "Education         -0.10            -0.06          -0.07      \n",
       "Gender            -0.09             0.02           0.06      \n",
       "Married           -0.11             0.03           0.11      \n",
       "Dependents        -0.10            -0.03           0.04      \n",
       "CoapplicantIncome -0.01            -0.01          -0.05      \n",
       "Property_Area     -0.06             0.00           0.03      \n",
       "Loan_Amount_Term   1.00             0.03          -0.01      \n",
       "Credit_History       NA             1.00           0.53      \n",
       "Loan_Status          NA               NA           1.00      "
      ]
     },
     "metadata": {},
     "output_type": "display_data"
    }
   ],
   "source": [
    "# reordering the correlation matrix elementa\n",
    "cormatround <- reorder_correlation_matrix(cormatround)\n",
    "\n",
    "\n",
    "cormatround_upper <- get_upper_tri(cormatround)\n",
    "cormatround_upper"
   ]
  },
  {
   "cell_type": "code",
   "execution_count": null,
   "metadata": {},
   "outputs": [],
   "source": [
    "# functions that are going to be used for Correlation matix plotting (in further steps)\n",
    "\n",
    "# Get lower triangle of the correlation matrix\n",
    "get_lower_tri<-function(cormat){\n",
    "  cormat[upper.tri(cormat)] <- NA\n",
    "  return(cormat)\n",
    "}\n",
    "\n",
    "# Get upper triangle of the correlation matrix\n",
    "get_upper_tri <- function(cormat){\n",
    "  cormat[lower.tri(cormat)]<- NA\n",
    "  return(cormat)\n",
    "}\n",
    "\n",
    "# function for reordering correlation matrix\n",
    "reorder_correlation_matrix <- function(cormat){\n",
    "  # Use correlation between variables as distance\n",
    "  dd <- as.dist((1-cormat)/2)\n",
    "  hc <- hclust(dd)\n",
    "  cormat <-cormat[hc$order, hc$order]\n",
    "}"
   ]
  },
  {
   "cell_type": "code",
   "execution_count": 28,
   "metadata": {},
   "outputs": [
    {
     "data": {
      "text/html": [
       "<table>\n",
       "<thead><tr><th></th><th scope=col>Gender</th><th scope=col>Married</th><th scope=col>Dependents</th><th scope=col>Education</th><th scope=col>Self_Employed</th><th scope=col>ApplicantIncome</th><th scope=col>CoapplicantIncome</th><th scope=col>LoanAmount</th><th scope=col>Loan_Amount_Term</th><th scope=col>Credit_History</th><th scope=col>Property_Area</th><th scope=col>Loan_Status</th></tr></thead>\n",
       "<tbody>\n",
       "\t<tr><th scope=row>Gender</th><td> 1   </td><td>0.35 </td><td>0.22 </td><td>0.06 </td><td> 0.00</td><td> 0.03</td><td> 0.16</td><td> 0.10</td><td>-0.09</td><td> 0.02</td><td> 0.00</td><td> 0.06</td></tr>\n",
       "\t<tr><th scope=row>Married</th><td>NA   </td><td>1.00 </td><td>0.39 </td><td>0.00 </td><td> 0.02</td><td> 0.04</td><td> 0.10</td><td> 0.18</td><td>-0.11</td><td> 0.03</td><td> 0.04</td><td> 0.11</td></tr>\n",
       "\t<tr><th scope=row>Dependents</th><td>NA   </td><td>  NA </td><td>1.00 </td><td>0.03 </td><td> 0.05</td><td> 0.13</td><td> 0.00</td><td> 0.17</td><td>-0.10</td><td>-0.03</td><td> 0.00</td><td> 0.04</td></tr>\n",
       "\t<tr><th scope=row>Education</th><td>NA   </td><td>  NA </td><td>  NA </td><td>1.00 </td><td>-0.01</td><td>-0.13</td><td>-0.07</td><td>-0.17</td><td>-0.10</td><td>-0.06</td><td>-0.06</td><td>-0.07</td></tr>\n",
       "\t<tr><th scope=row>Self_Employed</th><td>NA   </td><td>  NA </td><td>  NA </td><td>  NA </td><td> 1.00</td><td> 0.17</td><td> 0.00</td><td> 0.12</td><td>-0.03</td><td>-0.02</td><td>-0.05</td><td>-0.03</td></tr>\n",
       "\t<tr><th scope=row>ApplicantIncome</th><td>NA   </td><td>  NA </td><td>  NA </td><td>  NA </td><td>   NA</td><td> 1.00</td><td>-0.11</td><td> 0.50</td><td>-0.01</td><td>-0.06</td><td>-0.05</td><td>-0.04</td></tr>\n",
       "\t<tr><th scope=row>CoapplicantIncome</th><td>NA   </td><td>  NA </td><td>  NA </td><td>  NA </td><td>   NA</td><td>   NA</td><td> 1.00</td><td> 0.19</td><td>-0.01</td><td>-0.01</td><td> 0.01</td><td>-0.05</td></tr>\n",
       "\t<tr><th scope=row>LoanAmount</th><td>NA   </td><td>  NA </td><td>  NA </td><td>  NA </td><td>   NA</td><td>   NA</td><td>   NA</td><td> 1.00</td><td> 0.05</td><td>-0.04</td><td>-0.11</td><td>-0.07</td></tr>\n",
       "\t<tr><th scope=row>Loan_Amount_Term</th><td>NA   </td><td>  NA </td><td>  NA </td><td>  NA </td><td>   NA</td><td>   NA</td><td>   NA</td><td>   NA</td><td> 1.00</td><td> 0.03</td><td>-0.06</td><td>-0.01</td></tr>\n",
       "\t<tr><th scope=row>Credit_History</th><td>NA   </td><td>  NA </td><td>  NA </td><td>  NA </td><td>   NA</td><td>   NA</td><td>   NA</td><td>   NA</td><td>   NA</td><td> 1.00</td><td> 0.00</td><td> 0.53</td></tr>\n",
       "\t<tr><th scope=row>Property_Area</th><td>NA   </td><td>  NA </td><td>  NA </td><td>  NA </td><td>   NA</td><td>   NA</td><td>   NA</td><td>   NA</td><td>   NA</td><td>   NA</td><td> 1.00</td><td> 0.03</td></tr>\n",
       "\t<tr><th scope=row>Loan_Status</th><td>NA   </td><td>  NA </td><td>  NA </td><td>  NA </td><td>   NA</td><td>   NA</td><td>   NA</td><td>   NA</td><td>   NA</td><td>   NA</td><td>   NA</td><td> 1.00</td></tr>\n",
       "</tbody>\n",
       "</table>\n"
      ],
      "text/latex": [
       "\\begin{tabular}{r|llllllllllll}\n",
       "  & Gender & Married & Dependents & Education & Self\\_Employed & ApplicantIncome & CoapplicantIncome & LoanAmount & Loan\\_Amount\\_Term & Credit\\_History & Property\\_Area & Loan\\_Status\\\\\n",
       "\\hline\n",
       "\tGender &  1    & 0.35  & 0.22  & 0.06  &  0.00 &  0.03 &  0.16 &  0.10 & -0.09 &  0.02 &  0.00 &  0.06\\\\\n",
       "\tMarried & NA    & 1.00  & 0.39  & 0.00  &  0.02 &  0.04 &  0.10 &  0.18 & -0.11 &  0.03 &  0.04 &  0.11\\\\\n",
       "\tDependents & NA    &   NA  & 1.00  & 0.03  &  0.05 &  0.13 &  0.00 &  0.17 & -0.10 & -0.03 &  0.00 &  0.04\\\\\n",
       "\tEducation & NA    &   NA  &   NA  & 1.00  & -0.01 & -0.13 & -0.07 & -0.17 & -0.10 & -0.06 & -0.06 & -0.07\\\\\n",
       "\tSelf\\_Employed & NA    &   NA  &   NA  &   NA  &  1.00 &  0.17 &  0.00 &  0.12 & -0.03 & -0.02 & -0.05 & -0.03\\\\\n",
       "\tApplicantIncome & NA    &   NA  &   NA  &   NA  &    NA &  1.00 & -0.11 &  0.50 & -0.01 & -0.06 & -0.05 & -0.04\\\\\n",
       "\tCoapplicantIncome & NA    &   NA  &   NA  &   NA  &    NA &    NA &  1.00 &  0.19 & -0.01 & -0.01 &  0.01 & -0.05\\\\\n",
       "\tLoanAmount & NA    &   NA  &   NA  &   NA  &    NA &    NA &    NA &  1.00 &  0.05 & -0.04 & -0.11 & -0.07\\\\\n",
       "\tLoan\\_Amount\\_Term & NA    &   NA  &   NA  &   NA  &    NA &    NA &    NA &    NA &  1.00 &  0.03 & -0.06 & -0.01\\\\\n",
       "\tCredit\\_History & NA    &   NA  &   NA  &   NA  &    NA &    NA &    NA &    NA &    NA &  1.00 &  0.00 &  0.53\\\\\n",
       "\tProperty\\_Area & NA    &   NA  &   NA  &   NA  &    NA &    NA &    NA &    NA &    NA &    NA &  1.00 &  0.03\\\\\n",
       "\tLoan\\_Status & NA    &   NA  &   NA  &   NA  &    NA &    NA &    NA &    NA &    NA &    NA &    NA &  1.00\\\\\n",
       "\\end{tabular}\n"
      ],
      "text/markdown": [
       "\n",
       "| <!--/--> | Gender | Married | Dependents | Education | Self_Employed | ApplicantIncome | CoapplicantIncome | LoanAmount | Loan_Amount_Term | Credit_History | Property_Area | Loan_Status | \n",
       "|---|---|---|---|---|---|---|---|---|---|---|---|\n",
       "| Gender |  1    | 0.35  | 0.22  | 0.06  |  0.00 |  0.03 |  0.16 |  0.10 | -0.09 |  0.02 |  0.00 |  0.06 | \n",
       "| Married | NA    | 1.00  | 0.39  | 0.00  |  0.02 |  0.04 |  0.10 |  0.18 | -0.11 |  0.03 |  0.04 |  0.11 | \n",
       "| Dependents | NA    |   NA  | 1.00  | 0.03  |  0.05 |  0.13 |  0.00 |  0.17 | -0.10 | -0.03 |  0.00 |  0.04 | \n",
       "| Education | NA    |   NA  |   NA  | 1.00  | -0.01 | -0.13 | -0.07 | -0.17 | -0.10 | -0.06 | -0.06 | -0.07 | \n",
       "| Self_Employed | NA    |   NA  |   NA  |   NA  |  1.00 |  0.17 |  0.00 |  0.12 | -0.03 | -0.02 | -0.05 | -0.03 | \n",
       "| ApplicantIncome | NA    |   NA  |   NA  |   NA  |    NA |  1.00 | -0.11 |  0.50 | -0.01 | -0.06 | -0.05 | -0.04 | \n",
       "| CoapplicantIncome | NA    |   NA  |   NA  |   NA  |    NA |    NA |  1.00 |  0.19 | -0.01 | -0.01 |  0.01 | -0.05 | \n",
       "| LoanAmount | NA    |   NA  |   NA  |   NA  |    NA |    NA |    NA |  1.00 |  0.05 | -0.04 | -0.11 | -0.07 | \n",
       "| Loan_Amount_Term | NA    |   NA  |   NA  |   NA  |    NA |    NA |    NA |    NA |  1.00 |  0.03 | -0.06 | -0.01 | \n",
       "| Credit_History | NA    |   NA  |   NA  |   NA  |    NA |    NA |    NA |    NA |    NA |  1.00 |  0.00 |  0.53 | \n",
       "| Property_Area | NA    |   NA  |   NA  |   NA  |    NA |    NA |    NA |    NA |    NA |    NA |  1.00 |  0.03 | \n",
       "| Loan_Status | NA    |   NA  |   NA  |   NA  |    NA |    NA |    NA |    NA |    NA |    NA |    NA |  1.00 | \n",
       "\n",
       "\n"
      ],
      "text/plain": [
       "                  Gender Married Dependents Education Self_Employed\n",
       "Gender             1     0.35    0.22       0.06       0.00        \n",
       "Married           NA     1.00    0.39       0.00       0.02        \n",
       "Dependents        NA       NA    1.00       0.03       0.05        \n",
       "Education         NA       NA      NA       1.00      -0.01        \n",
       "Self_Employed     NA       NA      NA         NA       1.00        \n",
       "ApplicantIncome   NA       NA      NA         NA         NA        \n",
       "CoapplicantIncome NA       NA      NA         NA         NA        \n",
       "LoanAmount        NA       NA      NA         NA         NA        \n",
       "Loan_Amount_Term  NA       NA      NA         NA         NA        \n",
       "Credit_History    NA       NA      NA         NA         NA        \n",
       "Property_Area     NA       NA      NA         NA         NA        \n",
       "Loan_Status       NA       NA      NA         NA         NA        \n",
       "                  ApplicantIncome CoapplicantIncome LoanAmount Loan_Amount_Term\n",
       "Gender             0.03            0.16              0.10      -0.09           \n",
       "Married            0.04            0.10              0.18      -0.11           \n",
       "Dependents         0.13            0.00              0.17      -0.10           \n",
       "Education         -0.13           -0.07             -0.17      -0.10           \n",
       "Self_Employed      0.17            0.00              0.12      -0.03           \n",
       "ApplicantIncome    1.00           -0.11              0.50      -0.01           \n",
       "CoapplicantIncome    NA            1.00              0.19      -0.01           \n",
       "LoanAmount           NA              NA              1.00       0.05           \n",
       "Loan_Amount_Term     NA              NA                NA       1.00           \n",
       "Credit_History       NA              NA                NA         NA           \n",
       "Property_Area        NA              NA                NA         NA           \n",
       "Loan_Status          NA              NA                NA         NA           \n",
       "                  Credit_History Property_Area Loan_Status\n",
       "Gender             0.02           0.00          0.06      \n",
       "Married            0.03           0.04          0.11      \n",
       "Dependents        -0.03           0.00          0.04      \n",
       "Education         -0.06          -0.06         -0.07      \n",
       "Self_Employed     -0.02          -0.05         -0.03      \n",
       "ApplicantIncome   -0.06          -0.05         -0.04      \n",
       "CoapplicantIncome -0.01           0.01         -0.05      \n",
       "LoanAmount        -0.04          -0.11         -0.07      \n",
       "Loan_Amount_Term   0.03          -0.06         -0.01      \n",
       "Credit_History     1.00           0.00          0.53      \n",
       "Property_Area        NA           1.00          0.03      \n",
       "Loan_Status          NA             NA          1.00      "
      ]
     },
     "metadata": {},
     "output_type": "display_data"
    }
   ],
   "source": [
    "# melting the cormat round upper\n",
    "library(reshape2)\n",
    "melted_cormatround_upper <- melt(cormatround_upper, na.rm = T) \n",
    "melted_cormatround"
   ]
  },
  {
   "cell_type": "code",
   "execution_count": 29,
   "metadata": {},
   "outputs": [
    {
     "data": {},
     "metadata": {},
     "output_type": "display_data"
    },
    {
     "data": {
      "image/png": "[encoded data removed]",
      "text/plain": [
       "plot without title"
      ]
     },
     "metadata": {},
     "output_type": "display_data"
    }
   ],
   "source": [
    "# plotting the correlation Matrix with values\n",
    "correlation_plot <- ggplot(data = melted_cormatround_upper, aes(Var2, Var1, fill = value)) +\n",
    "  geom_tile(color = \"white\") +\n",
    "  scale_fill_gradient2(low = \"blue\", high = \"red\", mid = \"white\", \n",
    "                       midpoint = 0, limit = c(-1,1), space = \"Lab\", \n",
    "                       name=\"Pearson\\nCorrelation\") + theme_minimal() +\n",
    "  theme(axis.text.x = element_text(angle = 45, vjust = 1, \n",
    "                                   size = 10, hjust = 1)) +\n",
    "  coord_fixed()\n",
    "\n",
    "\n",
    "correlation_plot  + \n",
    "  geom_text(aes(Var2, Var1, label = value), color = \"black\", size = 4) +\n",
    "  theme(\n",
    "    axis.title.x = element_blank(),\n",
    "    axis.title.y = element_blank(),\n",
    "    panel.grid.major = element_blank(),\n",
    "    panel.border = element_blank(),\n",
    "    panel.background = element_blank(),\n",
    "    axis.ticks = element_blank(),\n",
    "    legend.justification = c(1, 0),\n",
    "    legend.position = c(0.6, 0.7),\n",
    "    legend.direction = \"horizontal\")+\n",
    "  guides(fill = guide_colorbar(barwidth = 7, barheight = 1,\n",
    "                               title.position = \"top\", title.hjust = 0.5))\n"
   ]
  }
 ],
 "metadata": {
  "kernelspec": {
   "display_name": "R",
   "language": "R",
   "name": "ir"
  },
  "language_info": {
   "codemirror_mode": "r",
   "file_extension": ".r",
   "mimetype": "text/x-r-source",
   "name": "R",
   "pygments_lexer": "r",
   "version": "3.3.3"
  }
 },
 "nbformat": 4,
 "nbformat_minor": 2
}
