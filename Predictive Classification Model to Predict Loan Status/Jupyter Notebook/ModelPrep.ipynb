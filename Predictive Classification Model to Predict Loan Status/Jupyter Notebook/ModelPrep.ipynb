{
 "cells": [
  {
   "cell_type": "markdown",
   "metadata": {},
   "source": [
    "# Model Prepartion and Analysis "
   ]
  },
  {
   "cell_type": "code",
   "execution_count": 61,
   "metadata": {},
   "outputs": [
    {
     "name": "stdout",
     "output_type": "stream",
     "text": [
      "'data.frame':\t480 obs. of  13 variables:\n",
      " $ Loan_ID          : Factor w/ 480 levels \"LP001003\",\"LP001005\",..: 1 2 3 4 5 6 7 8 9 10 ...\n",
      " $ Gender           : Factor w/ 2 levels \"Female\",\"Male\": 2 2 2 2 2 2 2 2 2 2 ...\n",
      " $ Married          : Factor w/ 2 levels \"No\",\"Yes\": 2 2 2 1 2 2 2 2 2 2 ...\n",
      " $ Dependents       : Factor w/ 4 levels \"0\",\"1\",\"2\",\"3+\": 2 1 1 1 3 1 4 3 2 3 ...\n",
      " $ Education        : Factor w/ 2 levels \"Graduate\",\"Not Graduate\": 1 1 2 1 1 2 1 1 1 1 ...\n",
      " $ Self_Employed    : Factor w/ 2 levels \"No\",\"Yes\": 1 2 1 1 2 1 1 1 1 1 ...\n",
      " $ ApplicantIncome  : int  4583 3000 2583 6000 5417 2333 3036 4006 12841 3200 ...\n",
      " $ CoapplicantIncome: int  1508 0 2358 0 4196 1516 2504 1526 10968 700 ...\n",
      " $ LoanAmount       : int  128 66 120 141 267 95 158 168 349 70 ...\n",
      " $ Loan_Amount_Term : int  360 360 360 360 360 360 360 360 360 360 ...\n",
      " $ Credit_History   : int  1 1 1 1 1 1 0 1 1 1 ...\n",
      " $ Property_Area    : Factor w/ 3 levels \"Rural\",\"Semiurban\",..: 1 3 3 3 3 3 2 3 2 3 ...\n",
      " $ Loan_Status      : Factor w/ 2 levels \"N\",\"Y\": 1 2 2 2 2 2 1 2 1 2 ...\n"
     ]
    }
   ],
   "source": [
    "df <- read.csv(file = file.choose(), header = T)\n",
    "\n",
    "dftrain <- df\n",
    "# taking backup of the dataset\n",
    "dftb <- dftrain \n",
    "# structure of the training dataset\n",
    "str(dftrain)"
   ]
  },
  {
   "cell_type": "code",
   "execution_count": 128,
   "metadata": {},
   "outputs": [],
   "source": [
    "# partitioning datset -> Training : Validation :: 60 : 40\n",
    "\n",
    "partidx <- sample(1:nrow(dftb), 0.6*nrow(dftb), replace = F)\n",
    "dftrain <- dftb[partidx,]\n",
    "dfvalid <- dftb[-partidx,]\n",
    "# removing loan id column\n",
    "dftrain <- dftrain[,-c(1)]\n",
    "dfvalid <- dfvalid[,-c(1)]"
   ]
  },
  {
   "cell_type": "markdown",
   "metadata": {},
   "source": [
    "## Decision Tree Model"
   ]
  },
  {
   "cell_type": "code",
   "execution_count": 129,
   "metadata": {},
   "outputs": [],
   "source": [
    "# loading libraries\n",
    "library(rpart)\n",
    "library(rpart.plot)\n",
    "\n",
    "# rel error is the ratio of incorrectly classified traiining records\n",
    "# after doing a split to incorrectly classified training records\n",
    "# at the root node (naive  rule)\n",
    "\n",
    "# xval (default value = 10)\n",
    "# pruning using rpart's prune\n",
    "mod1 <- rpart(Loan_Status ~ ., method = \"class\", data = dftrain, \n",
    "              control = rpart.control(cp = 0, minsplit = 2, minbucket = 1, \n",
    "                                      maxcomplete = 0, maxsurrogate = 0,\n",
    "                                      xval = 10)\n",
    "              )"
   ]
  },
  {
   "cell_type": "markdown",
   "metadata": {},
   "source": [
    "### Having a look at the cp table and cp value with least xerror value"
   ]
  },
  {
   "cell_type": "code",
   "execution_count": 130,
   "metadata": {},
   "outputs": [
    {
     "data": {
      "text/html": [
       "<table>\n",
       "<thead><tr><th></th><th scope=col>CP</th><th scope=col>nsplit</th><th scope=col>rel error</th><th scope=col>xerror</th><th scope=col>xstd</th></tr></thead>\n",
       "<tbody>\n",
       "\t<tr><th scope=row>1</th><td>0.329787234</td><td> 0         </td><td>1.00000000 </td><td>1.0000000  </td><td>0.08465268 </td></tr>\n",
       "\t<tr><th scope=row>2</th><td>0.021276596</td><td> 1         </td><td>0.67021277 </td><td>0.6702128  </td><td>0.07463412 </td></tr>\n",
       "\t<tr><th scope=row>3</th><td>0.015957447</td><td> 8         </td><td>0.51063830 </td><td>0.7446809  </td><td>0.07743783 </td></tr>\n",
       "\t<tr><th scope=row>4</th><td>0.014184397</td><td>14         </td><td>0.41489362 </td><td>0.8191489  </td><td>0.07990289 </td></tr>\n",
       "\t<tr><th scope=row>5</th><td>0.010638298</td><td>19         </td><td>0.34042553 </td><td>0.8085106  </td><td>0.07957023 </td></tr>\n",
       "\t<tr><th scope=row>6</th><td>0.007978723</td><td>29         </td><td>0.23404255 </td><td>0.9148936  </td><td>0.08262297 </td></tr>\n",
       "\t<tr><th scope=row>7</th><td>0.007092199</td><td>33         </td><td>0.20212766 </td><td>1.0106383  </td><td>0.08488215 </td></tr>\n",
       "\t<tr><th scope=row>8</th><td>0.006079027</td><td>47         </td><td>0.09574468 </td><td>1.0319149  </td><td>0.08532542 </td></tr>\n",
       "\t<tr><th scope=row>9</th><td>0.005319149</td><td>55         </td><td>0.04255319 </td><td>1.0531915  </td><td>0.08574808 </td></tr>\n",
       "\t<tr><th scope=row>10</th><td>0.000000000</td><td>63         </td><td>0.00000000 </td><td>1.0531915  </td><td>0.08574808 </td></tr>\n",
       "</tbody>\n",
       "</table>\n"
      ],
      "text/latex": [
       "\\begin{tabular}{r|lllll}\n",
       "  & CP & nsplit & rel error & xerror & xstd\\\\\n",
       "\\hline\n",
       "\t1 & 0.329787234 &  0          & 1.00000000  & 1.0000000   & 0.08465268 \\\\\n",
       "\t2 & 0.021276596 &  1          & 0.67021277  & 0.6702128   & 0.07463412 \\\\\n",
       "\t3 & 0.015957447 &  8          & 0.51063830  & 0.7446809   & 0.07743783 \\\\\n",
       "\t4 & 0.014184397 & 14          & 0.41489362  & 0.8191489   & 0.07990289 \\\\\n",
       "\t5 & 0.010638298 & 19          & 0.34042553  & 0.8085106   & 0.07957023 \\\\\n",
       "\t6 & 0.007978723 & 29          & 0.23404255  & 0.9148936   & 0.08262297 \\\\\n",
       "\t7 & 0.007092199 & 33          & 0.20212766  & 1.0106383   & 0.08488215 \\\\\n",
       "\t8 & 0.006079027 & 47          & 0.09574468  & 1.0319149   & 0.08532542 \\\\\n",
       "\t9 & 0.005319149 & 55          & 0.04255319  & 1.0531915   & 0.08574808 \\\\\n",
       "\t10 & 0.000000000 & 63          & 0.00000000  & 1.0531915   & 0.08574808 \\\\\n",
       "\\end{tabular}\n"
      ],
      "text/markdown": [
       "\n",
       "| <!--/--> | CP | nsplit | rel error | xerror | xstd | \n",
       "|---|---|---|---|---|---|---|---|---|---|\n",
       "| 1 | 0.329787234 |  0          | 1.00000000  | 1.0000000   | 0.08465268  | \n",
       "| 2 | 0.021276596 |  1          | 0.67021277  | 0.6702128   | 0.07463412  | \n",
       "| 3 | 0.015957447 |  8          | 0.51063830  | 0.7446809   | 0.07743783  | \n",
       "| 4 | 0.014184397 | 14          | 0.41489362  | 0.8191489   | 0.07990289  | \n",
       "| 5 | 0.010638298 | 19          | 0.34042553  | 0.8085106   | 0.07957023  | \n",
       "| 6 | 0.007978723 | 29          | 0.23404255  | 0.9148936   | 0.08262297  | \n",
       "| 7 | 0.007092199 | 33          | 0.20212766  | 1.0106383   | 0.08488215  | \n",
       "| 8 | 0.006079027 | 47          | 0.09574468  | 1.0319149   | 0.08532542  | \n",
       "| 9 | 0.005319149 | 55          | 0.04255319  | 1.0531915   | 0.08574808  | \n",
       "| 10 | 0.000000000 | 63          | 0.00000000  | 1.0531915   | 0.08574808  | \n",
       "\n",
       "\n"
      ],
      "text/plain": [
       "   CP          nsplit rel error  xerror    xstd      \n",
       "1  0.329787234  0     1.00000000 1.0000000 0.08465268\n",
       "2  0.021276596  1     0.67021277 0.6702128 0.07463412\n",
       "3  0.015957447  8     0.51063830 0.7446809 0.07743783\n",
       "4  0.014184397 14     0.41489362 0.8191489 0.07990289\n",
       "5  0.010638298 19     0.34042553 0.8085106 0.07957023\n",
       "6  0.007978723 29     0.23404255 0.9148936 0.08262297\n",
       "7  0.007092199 33     0.20212766 1.0106383 0.08488215\n",
       "8  0.006079027 47     0.09574468 1.0319149 0.08532542\n",
       "9  0.005319149 55     0.04255319 1.0531915 0.08574808\n",
       "10 0.000000000 63     0.00000000 1.0531915 0.08574808"
      ]
     },
     "metadata": {},
     "output_type": "display_data"
    },
    {
     "data": {
      "text/html": [
       "<dl class=dl-horizontal>\n",
       "\t<dt>CP</dt>\n",
       "\t\t<dd>0.0212765957446809</dd>\n",
       "\t<dt>nsplit</dt>\n",
       "\t\t<dd>1</dd>\n",
       "\t<dt>rel error</dt>\n",
       "\t\t<dd>0.670212765957447</dd>\n",
       "\t<dt>xerror</dt>\n",
       "\t\t<dd>0.670212765957447</dd>\n",
       "\t<dt>xstd</dt>\n",
       "\t\t<dd>0.0746341234063951</dd>\n",
       "</dl>\n"
      ],
      "text/latex": [
       "\\begin{description*}\n",
       "\\item[CP] 0.0212765957446809\n",
       "\\item[nsplit] 1\n",
       "\\item[rel error] 0.670212765957447\n",
       "\\item[xerror] 0.670212765957447\n",
       "\\item[xstd] 0.0746341234063951\n",
       "\\end{description*}\n"
      ],
      "text/markdown": [
       "CP\n",
       ":   0.0212765957446809nsplit\n",
       ":   1rel error\n",
       ":   0.670212765957447xerror\n",
       ":   0.670212765957447xstd\n",
       ":   0.0746341234063951\n",
       "\n"
      ],
      "text/plain": [
       "        CP     nsplit  rel error     xerror       xstd \n",
       "0.02127660 1.00000000 0.67021277 0.67021277 0.07463412 "
      ]
     },
     "metadata": {},
     "output_type": "display_data"
    }
   ],
   "source": [
    "mod1$cptable\n",
    "\n",
    "mod1$cptable[which.min(mod1$cptable[,\"xerror\"]),]"
   ]
  },
  {
   "cell_type": "code",
   "execution_count": 131,
   "metadata": {},
   "outputs": [
    {
     "data": {
      "image/png": "[encoded data removed]",
      "text/plain": [
       "plot without title"
      ]
     },
     "metadata": {},
     "output_type": "display_data"
    }
   ],
   "source": [
    "#  xerror  contains estimates of cross-validated prediction error\n",
    "# for different numbers of splits (nsplit)\n",
    "# below is the cp value corresponding to minimum xerror value\n",
    "cp1 <- mod1$cptable[which.min(mod1$cptable[,\"xerror\"]),\"CP\"]\n",
    "plotcp(mod1)"
   ]
  },
  {
   "cell_type": "markdown",
   "metadata": {},
   "source": [
    "### Pruning Tree"
   ]
  },
  {
   "cell_type": "code",
   "execution_count": 132,
   "metadata": {},
   "outputs": [
    {
     "data": {
      "image/png": "[encoded data removed]",
      "text/plain": [
       "plot without title"
      ]
     },
     "metadata": {},
     "output_type": "display_data"
    }
   ],
   "source": [
    "pmod <- prune(mod1, cp = cp1)\n",
    "prp(pmod)"
   ]
  },
  {
   "cell_type": "markdown",
   "metadata": {},
   "source": [
    "### Performance on Training Partition"
   ]
  },
  {
   "cell_type": "code",
   "execution_count": 133,
   "metadata": {},
   "outputs": [
    {
     "data": {
      "text/html": [
       "0.78125"
      ],
      "text/latex": [
       "0.78125"
      ],
      "text/markdown": [
       "0.78125"
      ],
      "text/plain": [
       "[1] 0.78125"
      ]
     },
     "metadata": {},
     "output_type": "display_data"
    },
    {
     "data": {
      "text/html": [
       "0.21875"
      ],
      "text/latex": [
       "0.21875"
      ],
      "text/markdown": [
       "0.21875"
      ],
      "text/plain": [
       "[1] 0.21875"
      ]
     },
     "metadata": {},
     "output_type": "display_data"
    }
   ],
   "source": [
    "# performance on training partition\n",
    "bmodtr <- predict(pmod, dftrain, type = \"class\")\n",
    "#classification accuracy #0.82\n",
    "mean(bmodtr == dftrain$Loan_Status) \n",
    "# misclassification error #0.17\n",
    "mean(bmodtr != dftrain$Loan_Status)"
   ]
  },
  {
   "cell_type": "markdown",
   "metadata": {},
   "source": [
    "### Performance on Validation Partition"
   ]
  },
  {
   "cell_type": "code",
   "execution_count": 134,
   "metadata": {},
   "outputs": [
    {
     "data": {
      "text/html": [
       "0.848958333333333"
      ],
      "text/latex": [
       "0.848958333333333"
      ],
      "text/markdown": [
       "0.848958333333333"
      ],
      "text/plain": [
       "[1] 0.8489583"
      ]
     },
     "metadata": {},
     "output_type": "display_data"
    },
    {
     "data": {
      "text/html": [
       "0.151041666666667"
      ],
      "text/latex": [
       "0.151041666666667"
      ],
      "text/markdown": [
       "0.151041666666667"
      ],
      "text/plain": [
       "[1] 0.1510417"
      ]
     },
     "metadata": {},
     "output_type": "display_data"
    }
   ],
   "source": [
    "# performance on validation partition\n",
    "bmodvr <- predict(pmod, dfvalid, type = 'class')\n",
    "#classification accuracy #0.82\n",
    "mean(bmodvr == dfvalid$Loan_Status)\n",
    "# misclassification error #0.17\n",
    "mean(bmodvr != dfvalid$Loan_Status)"
   ]
  },
  {
   "cell_type": "markdown",
   "metadata": {},
   "source": [
    "\n",
    "## Logistic Regression Model "
   ]
  },
  {
   "cell_type": "code",
   "execution_count": 138,
   "metadata": {},
   "outputs": [
    {
     "data": {
      "text/plain": [
       "\n",
       "Call:\n",
       "glm(formula = Loan_Status ~ ., family = binomial(link = \"logit\"), \n",
       "    data = dftrain)\n",
       "\n",
       "Deviance Residuals: \n",
       "    Min       1Q   Median       3Q      Max  \n",
       "-2.5332  -0.4933   0.4778   0.7673   2.0600  \n",
       "\n",
       "Coefficients:\n",
       "                         Estimate Std. Error z value Pr(>|z|)    \n",
       "(Intercept)            -1.652e+00  1.184e+00  -1.395 0.163143    \n",
       "GenderMale              2.137e-01  4.332e-01   0.493 0.621815    \n",
       "MarriedYes              4.445e-01  3.771e-01   1.179 0.238545    \n",
       "Dependents1            -2.404e-01  4.353e-01  -0.552 0.580692    \n",
       "Dependents2             6.662e-01  5.053e-01   1.318 0.187355    \n",
       "Dependents3+            2.979e-01  6.104e-01   0.488 0.625515    \n",
       "EducationNot Graduate  -4.401e-01  3.842e-01  -1.145 0.252016    \n",
       "Self_EmployedYes        2.618e-01  4.766e-01   0.549 0.582726    \n",
       "ApplicantIncome        -1.416e-05  3.843e-05  -0.369 0.712480    \n",
       "CoapplicantIncome      -4.917e-05  4.991e-05  -0.985 0.324531    \n",
       "LoanAmount             -3.607e-03  2.199e-03  -1.640 0.100952    \n",
       "Loan_Amount_Term       -1.765e-03  2.714e-03  -0.650 0.515531    \n",
       "Credit_History          3.197e+00  5.250e-01   6.088 1.14e-09 ***\n",
       "Property_AreaSemiurban  1.284e+00  3.856e-01   3.330 0.000868 ***\n",
       "Property_AreaUrban      6.433e-02  3.670e-01   0.175 0.860857    \n",
       "---\n",
       "Signif. codes:  0 '***' 0.001 '**' 0.01 '*' 0.05 '.' 0.1 ' ' 1\n",
       "\n",
       "(Dispersion parameter for binomial family taken to be 1)\n",
       "\n",
       "    Null deviance: 363.80  on 287  degrees of freedom\n",
       "Residual deviance: 271.94  on 273  degrees of freedom\n",
       "AIC: 301.94\n",
       "\n",
       "Number of Fisher Scoring iterations: 5\n"
      ]
     },
     "metadata": {},
     "output_type": "display_data"
    }
   ],
   "source": [
    "# Preparing model\n",
    "mod2 <- glm(Loan_Status ~ ., family = binomial(link = \"logit\"),\n",
    "            data = dftrain)\n",
    "summary(mod2)"
   ]
  },
  {
   "cell_type": "markdown",
   "metadata": {},
   "source": [
    "### Performance on Training Partition "
   ]
  },
  {
   "cell_type": "code",
   "execution_count": 140,
   "metadata": {},
   "outputs": [
    {
     "data": {
      "text/html": [
       "0.805555555555556"
      ],
      "text/latex": [
       "0.805555555555556"
      ],
      "text/markdown": [
       "0.805555555555556"
      ],
      "text/plain": [
       "[1] 0.8055556"
      ]
     },
     "metadata": {},
     "output_type": "display_data"
    },
    {
     "data": {
      "text/html": [
       "0.194444444444444"
      ],
      "text/latex": [
       "0.194444444444444"
      ],
      "text/markdown": [
       "0.194444444444444"
      ],
      "text/plain": [
       "[1] 0.1944444"
      ]
     },
     "metadata": {},
     "output_type": "display_data"
    }
   ],
   "source": [
    "# on training partition\n",
    "lrmodrt <- predict(mod2, dftrain, type = \"response\")\n",
    "lrmodrt <- ifelse(lrmodrt > 0.5,\"Y\",\"N\")\n",
    "lrmodrt <- as.factor(lrmodrt)\n",
    "#classification accuracy #0.80\n",
    "mean(lrmodrt == dftrain$Loan_Status)\n",
    "# misclassification error #0.19\n",
    "mean(lrmodrt != dftrain$Loan_Status)"
   ]
  },
  {
   "cell_type": "markdown",
   "metadata": {},
   "source": [
    "### Performance on Validation Partition"
   ]
  },
  {
   "cell_type": "code",
   "execution_count": 141,
   "metadata": {
    "scrolled": true
   },
   "outputs": [
    {
     "data": {
      "text/html": [
       "0.84375"
      ],
      "text/latex": [
       "0.84375"
      ],
      "text/markdown": [
       "0.84375"
      ],
      "text/plain": [
       "[1] 0.84375"
      ]
     },
     "metadata": {},
     "output_type": "display_data"
    },
    {
     "data": {
      "text/html": [
       "0.15625"
      ],
      "text/latex": [
       "0.15625"
      ],
      "text/markdown": [
       "0.15625"
      ],
      "text/plain": [
       "[1] 0.15625"
      ]
     },
     "metadata": {},
     "output_type": "display_data"
    }
   ],
   "source": [
    "# on validation partition\n",
    "lrmodrv <- predict(mod2, dfvalid, type = \"response\")\n",
    "lrmodrv <- ifelse(lrmodrv > 0.5,\"Y\",\"N\")\n",
    "lrmodrv <- as.factor(lrmodrv)\n",
    "#classification accuracy #0.79\n",
    "mean(lrmodrv == dfvalid$Loan_Status)\n",
    "# misclassification error #0.20\n",
    "mean(lrmodrv != dfvalid$Loan_Status)"
   ]
  },
  {
   "cell_type": "code",
   "execution_count": 142,
   "metadata": {},
   "outputs": [],
   "source": [
    "save(mod1,pmod,mod2,dftrain,dfvalid, file = file.choose())"
   ]
  }
 ],
 "metadata": {
  "kernelspec": {
   "display_name": "R",
   "language": "R",
   "name": "ir"
  },
  "language_info": {
   "codemirror_mode": "r",
   "file_extension": ".r",
   "mimetype": "text/x-r-source",
   "name": "R",
   "pygments_lexer": "r",
   "version": "3.3.3"
  }
 },
 "nbformat": 4,
 "nbformat_minor": 2
}
