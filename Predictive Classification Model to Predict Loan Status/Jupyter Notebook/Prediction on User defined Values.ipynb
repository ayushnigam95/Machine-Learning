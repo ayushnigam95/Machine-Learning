{
 "cells": [
  {
   "cell_type": "markdown",
   "metadata": {},
   "source": [
    "# Prediction on User Defined Values"
   ]
  },
  {
   "cell_type": "code",
   "execution_count": 1,
   "metadata": {},
   "outputs": [],
   "source": [
    "# select predUserDefined file \n",
    "load(file = file.choose())"
   ]
  },
  {
   "cell_type": "markdown",
   "metadata": {},
   "source": [
    "## Range for legit User Value for each Field"
   ]
  },
  {
   "cell_type": "markdown",
   "metadata": {},
   "source": [
    "#### Gender                         : \"Male\"  or \"Female\"\n",
    "#### Married                         : \"Yes\" or \"No\"\n",
    "#### Dependents                 :  \"0\", \"1\", \"2\" or \"3+\"\n",
    "#### Education                    : \"Graduate\" or \"Not Graduate\"\n",
    "#### Self_Employed           : \"Yes\" or \"No\"\n",
    "#### Applicant_Income      : [150, 81000]\n",
    "#### Coapplicant_Income  : [0,  33837]\n",
    "#### Loan_Amount             : [9, 600]\n",
    "#### Loan_Amount_Term  :[36, 480]\n",
    "#### Credit_History            : {0, 1}\n",
    "#### Property_Area            : \"Rural\", \"Semiurban\" or \"Urban\""
   ]
  },
  {
   "cell_type": "markdown",
   "metadata": {},
   "source": [
    "## Enter Values in the Below Tab "
   ]
  },
  {
   "cell_type": "code",
   "execution_count": 16,
   "metadata": {},
   "outputs": [],
   "source": [
    "Gender <- \"Male\"                 # \"Male\"  or \"Female\"\n",
    "Married <- \"No\"                 # \"Yes\" or \"No\"\n",
    "Dependents <- 0                  #  \"0\", \"1\", \"2\" or \"3+\"\n",
    "Education <- \"Graduate\"          # \"Graduate\" or \"Not Graduate\"\n",
    "Self_Employed <- \"No\"            # \"Yes\" or \"No\"\n",
    "Applicant_Income <- 4853         # [150, 81000]\n",
    "Coapplicant_Income <- 20080       # [0, 33837]\n",
    "Loan_Amount <- 128               # [9, 600]\n",
    "Loan_Amount_Term <- 480          #[36, 480]\n",
    "Credit_History <- 1              # {0, 1}\n",
    "Property_Area <- \"Semiurban\"         #  \"Rural\", \"Semiurban\" or \"Urban\""
   ]
  },
  {
   "cell_type": "code",
   "execution_count": 17,
   "metadata": {},
   "outputs": [],
   "source": [
    "Gender <- as.factor(Gender)\n",
    "Married <- as.factor(Married)\n",
    "Dependents <- as.factor(Dependents)\n",
    "Education <- as.factor(Education)\n",
    "Self_Employed <- as.factor(Self_Employed)\n",
    "Applicant_Income <- as.integer(Applicant_Income)\n",
    "Coapplicant_Income <- as.integer(Coapplicant_Income)\n",
    "Loan_Amount <- as.integer(Loan_Amount)\n",
    "Loan_Amount_Term <- as.integer(Loan_Amount_Term)\n",
    "Credit_History <- as.integer(Credit_History)\n",
    "Property_Area <- as.factor(Property_Area)\n",
    "\n",
    "\n",
    "user_Defined <- data.frame(\"Gender\" = Gender, \"Married\" = Married, \"Dependents\" = Dependents, \"Education\" = Education,\n",
    "                     \"Self_Employed\" = Self_Employed,\n",
    "                     \"ApplicantIncome\" = Applicant_Income,\n",
    "                     \"CoapplicantIncome\" = Coapplicant_Income,\n",
    "                     \"LoanAmount\" = Loan_Amount,\n",
    "                     \"Loan_Amount_Term\" = Loan_Amount_Term,\n",
    "                     \"Credit_History\" = Credit_History,\n",
    "                     \"Property_Area\" = Property_Area\n",
    "                     )\n",
    "pre_Defined_Values <- rbind(pre_Defined_Values,user_Defined)"
   ]
  },
  {
   "cell_type": "markdown",
   "metadata": {},
   "source": [
    "## Prediction result from Decision Tree (has more classification accuracy)"
   ]
  },
  {
   "cell_type": "code",
   "execution_count": 18,
   "metadata": {},
   "outputs": [
    {
     "data": {
      "text/html": [
       "'Loan will be Passed !'"
      ],
      "text/latex": [
       "'Loan will be Passed !'"
      ],
      "text/markdown": [
       "'Loan will be Passed !'"
      ],
      "text/plain": [
       "[1] \"Loan will be Passed !\""
      ]
     },
     "metadata": {},
     "output_type": "display_data"
    }
   ],
   "source": [
    "# prediction from decison tree model\n",
    "dtpr <- predict(pmod, pre_Defined_Values[nrow(pre_Defined_Values),], type = \"class\")\n",
    "ifelse(dtpr == \"Y\", \"Loan will be Passed !\", \"Loan Will not be Passed !\")\n"
   ]
  },
  {
   "cell_type": "markdown",
   "metadata": {},
   "source": [
    "## Prediction result from Logistic Regression Model "
   ]
  },
  {
   "cell_type": "code",
   "execution_count": 19,
   "metadata": {},
   "outputs": [
    {
     "data": {
      "text/html": [
       "<strong>484:</strong> 'Loan Will not be Passed !'"
      ],
      "text/latex": [
       "\\textbf{484:} 'Loan Will not be Passed !'"
      ],
      "text/markdown": [
       "**484:** 'Loan Will not be Passed !'"
      ],
      "text/plain": [
       "                        484 \n",
       "\"Loan Will not be Passed !\" "
      ]
     },
     "metadata": {},
     "output_type": "display_data"
    }
   ],
   "source": [
    "# prediction from logistic Regression model\n",
    "logRegpr <- predict(mod2, pre_Defined_Values[nrow(pre_Defined_Values),], type = \"response\")\n",
    "ifelse(logRegpr > 0.5, \"Loan will be Passed !\", \"Loan Will not be Passed !\")"
   ]
  }
 ],
 "metadata": {
  "kernelspec": {
   "display_name": "R",
   "language": "R",
   "name": "ir"
  },
  "language_info": {
   "codemirror_mode": "r",
   "file_extension": ".r",
   "mimetype": "text/x-r-source",
   "name": "R",
   "pygments_lexer": "r",
   "version": "3.3.3"
  }
 },
 "nbformat": 4,
 "nbformat_minor": 2
}
